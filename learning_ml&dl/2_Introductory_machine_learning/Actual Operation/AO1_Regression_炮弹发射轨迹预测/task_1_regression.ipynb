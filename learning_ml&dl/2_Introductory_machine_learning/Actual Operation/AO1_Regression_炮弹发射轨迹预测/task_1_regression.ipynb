{
 "cells": [
  {
   "cell_type": "markdown",
   "metadata": {},
   "source": [
    "# 综合提升之炮弹发射轨迹预测"
   ]
  },
  {
   "cell_type": "raw",
   "metadata": {},
   "source": [
    "任务：\n",
    "\n",
    "基于task1_train_data数据，建立回归模型，预测炮弹高度。\n",
    "1、基于task1_train_data数据，建立线性回归模型，计算其在task1_test_data数据上的r2分数，可视化模型预测结果 \n",
    "2、分别引入2次、6次多项式属性数据，建立回归模型\n",
    "3、对比三个模型对训练数据、测试数据集做预测的r2分数，判断哪个模型预测更准确\n",
    "4、可视化三个模型的预测曲线，判断哪个模型预测更准确"
   ]
  },
  {
   "cell_type": "raw",
   "metadata": {},
   "source": [
    "@Author  : Flare Zhao\n",
    "@Email: 454209979@qq.com\n",
    "@添加学习小助手微信（ai_flare），加入AI学习讨论群。好友申请注明已购买的课程名称"
   ]
  },
  {
   "cell_type": "code",
   "execution_count": 1,
   "metadata": {},
   "outputs": [
    {
     "data": {
      "text/html": [
       "<div>\n",
       "<style scoped>\n",
       "    .dataframe tbody tr th:only-of-type {\n",
       "        vertical-align: middle;\n",
       "    }\n",
       "\n",
       "    .dataframe tbody tr th {\n",
       "        vertical-align: top;\n",
       "    }\n",
       "\n",
       "    .dataframe thead th {\n",
       "        text-align: right;\n",
       "    }\n",
       "</style>\n",
       "<table border=\"1\" class=\"dataframe\">\n",
       "  <thead>\n",
       "    <tr style=\"text-align: right;\">\n",
       "      <th></th>\n",
       "      <th>x_d</th>\n",
       "      <th>y_d</th>\n",
       "    </tr>\n",
       "  </thead>\n",
       "  <tbody>\n",
       "    <tr>\n",
       "      <th>0</th>\n",
       "      <td>33.8465</td>\n",
       "      <td>59.3003</td>\n",
       "    </tr>\n",
       "    <tr>\n",
       "      <th>1</th>\n",
       "      <td>58.5384</td>\n",
       "      <td>119.9220</td>\n",
       "    </tr>\n",
       "    <tr>\n",
       "      <th>2</th>\n",
       "      <td>87.8723</td>\n",
       "      <td>194.7350</td>\n",
       "    </tr>\n",
       "    <tr>\n",
       "      <th>3</th>\n",
       "      <td>124.8290</td>\n",
       "      <td>266.9400</td>\n",
       "    </tr>\n",
       "    <tr>\n",
       "      <th>4</th>\n",
       "      <td>184.6340</td>\n",
       "      <td>327.4480</td>\n",
       "    </tr>\n",
       "  </tbody>\n",
       "</table>\n",
       "</div>"
      ],
      "text/plain": [
       "        x_d       y_d\n",
       "0   33.8465   59.3003\n",
       "1   58.5384  119.9220\n",
       "2   87.8723  194.7350\n",
       "3  124.8290  266.9400\n",
       "4  184.6340  327.4480"
      ]
     },
     "execution_count": 1,
     "metadata": {},
     "output_type": "execute_result"
    }
   ],
   "source": [
    "#数据加载\n",
    "import pandas as pd\n",
    "import numpy as np\n",
    "data_train = pd.read_csv('task1_train_data.csv')\n",
    "data_test = pd.read_csv('task1_test_data.csv')\n",
    "data_train.head()\n",
    "data_test.head()"
   ]
  },
  {
   "cell_type": "code",
   "execution_count": 2,
   "metadata": {},
   "outputs": [
    {
     "name": "stdout",
     "output_type": "stream",
     "text": [
      "0     232.2740\n",
      "1      64.8744\n",
      "2      88.8854\n",
      "3     116.5170\n",
      "4     151.4440\n",
      "5     186.4150\n",
      "6     221.4130\n",
      "7     243.1490\n",
      "8     255.2350\n",
      "9     268.5380\n",
      "10    290.3210\n",
      "11    309.6980\n",
      "Name: x_d, dtype: float64 0     338.592\n",
      "1     141.990\n",
      "2     201.456\n",
      "3     262.136\n",
      "4     302.184\n",
      "5     324.029\n",
      "6     334.951\n",
      "7     336.165\n",
      "8     332.524\n",
      "9     325.243\n",
      "10    307.039\n",
      "11    285.194\n",
      "Name: y_d, dtype: float64\n"
     ]
    }
   ],
   "source": [
    "#训练数据与测试数据的赋值\n",
    "X_train = data_train.loc[:,'x_d']\n",
    "y_train = data_train.loc[:,'y_d']\n",
    "\n",
    "X_test = data_test.loc[:,'x_d']\n",
    "y_test = data_test.loc[:,'y_d']\n",
    "\n",
    "print(X_train,y_train)"
   ]
  },
  {
   "cell_type": "code",
   "execution_count": 3,
   "metadata": {},
   "outputs": [
    {
     "data": {
      "image/png": "[encoded data removed]",
      "text/plain": [
       "<Figure size 432x288 with 1 Axes>"
      ]
     },
     "metadata": {
      "needs_background": "light"
     },
     "output_type": "display_data"
    }
   ],
   "source": [
    "#数据可视化\n",
    "from matplotlib import pyplot as plt\n",
    "fig1 = plt.figure()\n",
    "data_train = plt.scatter(X_train,y_train,label='training data')\n",
    "data_test = plt.scatter(X_test,y_test,label='test data')\n",
    "plt.title('training-test data')\n",
    "plt.xlabel('x_d')\n",
    "plt.ylabel('y_d')\n",
    "plt.show()"
   ]
  },
  {
   "cell_type": "code",
   "execution_count": 4,
   "metadata": {},
   "outputs": [
    {
     "name": "stdout",
     "output_type": "stream",
     "text": [
      "(12,)\n",
      "(12, 1)\n",
      "(8, 1)\n"
     ]
    }
   ],
   "source": [
    "#格式与维度的转化\n",
    "print(X_train.shape)\n",
    "X_train = np.array(X_train)\n",
    "X_train = X_train.reshape(-1,1)\n",
    "print(X_train.shape)\n",
    "X_test = np.array(X_test).reshape(-1,1)\n",
    "print(X_test.shape)"
   ]
  },
  {
   "cell_type": "code",
   "execution_count": 5,
   "metadata": {},
   "outputs": [
    {
     "data": {
      "text/plain": [
       "LinearRegression()"
      ]
     },
     "execution_count": 5,
     "metadata": {},
     "output_type": "execute_result"
    }
   ],
   "source": [
    "#线性回归模型的建立与训练\n",
    "from sklearn.linear_model import LinearRegression\n",
    "model1 = LinearRegression()\n",
    "model1.fit(X_train,y_train)"
   ]
  },
  {
   "cell_type": "code",
   "execution_count": 6,
   "metadata": {},
   "outputs": [
    {
     "name": "stdout",
     "output_type": "stream",
     "text": [
      "[193.2015545  207.52252667 224.53579682 245.97018916 280.65629028\n",
      " 358.35826068 383.81445438 392.54847322]\n"
     ]
    }
   ],
   "source": [
    "#模型预测\n",
    "y_train_predict = model1.predict(X_train)\n",
    "y_test_predict = model1.predict(X_test)\n",
    "print(y_test_predict)"
   ]
  },
  {
   "cell_type": "code",
   "execution_count": 7,
   "metadata": {},
   "outputs": [
    {
     "name": "stdout",
     "output_type": "stream",
     "text": [
      "trianing r2: 0.5756251457400435\n",
      "test r2: -1.6553718247964797\n"
     ]
    }
   ],
   "source": [
    "#模型评估\n",
    "from sklearn.metrics import r2_score\n",
    "r2_train = r2_score(y_train,y_train_predict)\n",
    "r2_test = r2_score(y_test,y_test_predict)\n",
    "print('trianing r2:',r2_train)\n",
    "print('test r2:',r2_test)"
   ]
  },
  {
   "cell_type": "code",
   "execution_count": 8,
   "metadata": {},
   "outputs": [
    {
     "name": "stdout",
     "output_type": "stream",
     "text": [
      "(300, 1) [40.] [400.]\n",
      "[[ 40.        ]\n",
      " [ 41.20401338]\n",
      " [ 42.40802676]\n",
      " [ 43.61204013]\n",
      " [ 44.81605351]\n",
      " [ 46.02006689]\n",
      " [ 47.22408027]\n",
      " [ 48.42809365]\n",
      " [ 49.63210702]\n",
      " [ 50.8361204 ]\n",
      " [ 52.04013378]\n",
      " [ 53.24414716]\n",
      " [ 54.44816054]\n",
      " [ 55.65217391]\n",
      " [ 56.85618729]\n",
      " [ 58.06020067]\n",
      " [ 59.26421405]\n",
      " [ 60.46822742]\n",
      " [ 61.6722408 ]\n",
      " [ 62.87625418]\n",
      " [ 64.08026756]\n",
      " [ 65.28428094]\n",
      " [ 66.48829431]\n",
      " [ 67.69230769]\n",
      " [ 68.89632107]\n",
      " [ 70.10033445]\n",
      " [ 71.30434783]\n",
      " [ 72.5083612 ]\n",
      " [ 73.71237458]\n",
      " [ 74.91638796]\n",
      " [ 76.12040134]\n",
      " [ 77.32441472]\n",
      " [ 78.52842809]\n",
      " [ 79.73244147]\n",
      " [ 80.93645485]\n",
      " [ 82.14046823]\n",
      " [ 83.34448161]\n",
      " [ 84.54849498]\n",
      " [ 85.75250836]\n",
      " [ 86.95652174]\n",
      " [ 88.16053512]\n",
      " [ 89.36454849]\n",
      " [ 90.56856187]\n",
      " [ 91.77257525]\n",
      " [ 92.97658863]\n",
      " [ 94.18060201]\n",
      " [ 95.38461538]\n",
      " [ 96.58862876]\n",
      " [ 97.79264214]\n",
      " [ 98.99665552]\n",
      " [100.2006689 ]\n",
      " [101.40468227]\n",
      " [102.60869565]\n",
      " [103.81270903]\n",
      " [105.01672241]\n",
      " [106.22073579]\n",
      " [107.42474916]\n",
      " [108.62876254]\n",
      " [109.83277592]\n",
      " [111.0367893 ]\n",
      " [112.24080268]\n",
      " [113.44481605]\n",
      " [114.64882943]\n",
      " [115.85284281]\n",
      " [117.05685619]\n",
      " [118.26086957]\n",
      " [119.46488294]\n",
      " [120.66889632]\n",
      " [121.8729097 ]\n",
      " [123.07692308]\n",
      " [124.28093645]\n",
      " [125.48494983]\n",
      " [126.68896321]\n",
      " [127.89297659]\n",
      " [129.09698997]\n",
      " [130.30100334]\n",
      " [131.50501672]\n",
      " [132.7090301 ]\n",
      " [133.91304348]\n",
      " [135.11705686]\n",
      " [136.32107023]\n",
      " [137.52508361]\n",
      " [138.72909699]\n",
      " [139.93311037]\n",
      " [141.13712375]\n",
      " [142.34113712]\n",
      " [143.5451505 ]\n",
      " [144.74916388]\n",
      " [145.95317726]\n",
      " [147.15719064]\n",
      " [148.36120401]\n",
      " [149.56521739]\n",
      " [150.76923077]\n",
      " [151.97324415]\n",
      " [153.17725753]\n",
      " [154.3812709 ]\n",
      " [155.58528428]\n",
      " [156.78929766]\n",
      " [157.99331104]\n",
      " [159.19732441]\n",
      " [160.40133779]\n",
      " [161.60535117]\n",
      " [162.80936455]\n",
      " [164.01337793]\n",
      " [165.2173913 ]\n",
      " [166.42140468]\n",
      " [167.62541806]\n",
      " [168.82943144]\n",
      " [170.03344482]\n",
      " [171.23745819]\n",
      " [172.44147157]\n",
      " [173.64548495]\n",
      " [174.84949833]\n",
      " [176.05351171]\n",
      " [177.25752508]\n",
      " [178.46153846]\n",
      " [179.66555184]\n",
      " [180.86956522]\n",
      " [182.0735786 ]\n",
      " [183.27759197]\n",
      " [184.48160535]\n",
      " [185.68561873]\n",
      " [186.88963211]\n",
      " [188.09364548]\n",
      " [189.29765886]\n",
      " [190.50167224]\n",
      " [191.70568562]\n",
      " [192.909699  ]\n",
      " [194.11371237]\n",
      " [195.31772575]\n",
      " [196.52173913]\n",
      " [197.72575251]\n",
      " [198.92976589]\n",
      " [200.13377926]\n",
      " [201.33779264]\n",
      " [202.54180602]\n",
      " [203.7458194 ]\n",
      " [204.94983278]\n",
      " [206.15384615]\n",
      " [207.35785953]\n",
      " [208.56187291]\n",
      " [209.76588629]\n",
      " [210.96989967]\n",
      " [212.17391304]\n",
      " [213.37792642]\n",
      " [214.5819398 ]\n",
      " [215.78595318]\n",
      " [216.98996656]\n",
      " [218.19397993]\n",
      " [219.39799331]\n",
      " [220.60200669]\n",
      " [221.80602007]\n",
      " [223.01003344]\n",
      " [224.21404682]\n",
      " [225.4180602 ]\n",
      " [226.62207358]\n",
      " [227.82608696]\n",
      " [229.03010033]\n",
      " [230.23411371]\n",
      " [231.43812709]\n",
      " [232.64214047]\n",
      " [233.84615385]\n",
      " [235.05016722]\n",
      " [236.2541806 ]\n",
      " [237.45819398]\n",
      " [238.66220736]\n",
      " [239.86622074]\n",
      " [241.07023411]\n",
      " [242.27424749]\n",
      " [243.47826087]\n",
      " [244.68227425]\n",
      " [245.88628763]\n",
      " [247.090301  ]\n",
      " [248.29431438]\n",
      " [249.49832776]\n",
      " [250.70234114]\n",
      " [251.90635452]\n",
      " [253.11036789]\n",
      " [254.31438127]\n",
      " [255.51839465]\n",
      " [256.72240803]\n",
      " [257.9264214 ]\n",
      " [259.13043478]\n",
      " [260.33444816]\n",
      " [261.53846154]\n",
      " [262.74247492]\n",
      " [263.94648829]\n",
      " [265.15050167]\n",
      " [266.35451505]\n",
      " [267.55852843]\n",
      " [268.76254181]\n",
      " [269.96655518]\n",
      " [271.17056856]\n",
      " [272.37458194]\n",
      " [273.57859532]\n",
      " [274.7826087 ]\n",
      " [275.98662207]\n",
      " [277.19063545]\n",
      " [278.39464883]\n",
      " [279.59866221]\n",
      " [280.80267559]\n",
      " [282.00668896]\n",
      " [283.21070234]\n",
      " [284.41471572]\n",
      " [285.6187291 ]\n",
      " [286.82274247]\n",
      " [288.02675585]\n",
      " [289.23076923]\n",
      " [290.43478261]\n",
      " [291.63879599]\n",
      " [292.84280936]\n",
      " [294.04682274]\n",
      " [295.25083612]\n",
      " [296.4548495 ]\n",
      " [297.65886288]\n",
      " [298.86287625]\n",
      " [300.06688963]\n",
      " [301.27090301]\n",
      " [302.47491639]\n",
      " [303.67892977]\n",
      " [304.88294314]\n",
      " [306.08695652]\n",
      " [307.2909699 ]\n",
      " [308.49498328]\n",
      " [309.69899666]\n",
      " [310.90301003]\n",
      " [312.10702341]\n",
      " [313.31103679]\n",
      " [314.51505017]\n",
      " [315.71906355]\n",
      " [316.92307692]\n",
      " [318.1270903 ]\n",
      " [319.33110368]\n",
      " [320.53511706]\n",
      " [321.73913043]\n",
      " [322.94314381]\n",
      " [324.14715719]\n",
      " [325.35117057]\n",
      " [326.55518395]\n",
      " [327.75919732]\n",
      " [328.9632107 ]\n",
      " [330.16722408]\n",
      " [331.37123746]\n",
      " [332.57525084]\n",
      " [333.77926421]\n",
      " [334.98327759]\n",
      " [336.18729097]\n",
      " [337.39130435]\n",
      " [338.59531773]\n",
      " [339.7993311 ]\n",
      " [341.00334448]\n",
      " [342.20735786]\n",
      " [343.41137124]\n",
      " [344.61538462]\n",
      " [345.81939799]\n",
      " [347.02341137]\n",
      " [348.22742475]\n",
      " [349.43143813]\n",
      " [350.63545151]\n",
      " [351.83946488]\n",
      " [353.04347826]\n",
      " [354.24749164]\n",
      " [355.45150502]\n",
      " [356.65551839]\n",
      " [357.85953177]\n",
      " [359.06354515]\n",
      " [360.26755853]\n",
      " [361.47157191]\n",
      " [362.67558528]\n",
      " [363.87959866]\n",
      " [365.08361204]\n",
      " [366.28762542]\n",
      " [367.4916388 ]\n",
      " [368.69565217]\n",
      " [369.89966555]\n",
      " [371.10367893]\n",
      " [372.30769231]\n",
      " [373.51170569]\n",
      " [374.71571906]\n",
      " [375.91973244]\n",
      " [377.12374582]\n",
      " [378.3277592 ]\n",
      " [379.53177258]\n",
      " [380.73578595]\n",
      " [381.93979933]\n",
      " [383.14381271]\n",
      " [384.34782609]\n",
      " [385.55183946]\n",
      " [386.75585284]\n",
      " [387.95986622]\n",
      " [389.1638796 ]\n",
      " [390.36789298]\n",
      " [391.57190635]\n",
      " [392.77591973]\n",
      " [393.97993311]\n",
      " [395.18394649]\n",
      " [396.38795987]\n",
      " [397.59197324]\n",
      " [398.79598662]\n",
      " [400.        ]]\n"
     ]
    }
   ],
   "source": [
    "#结果可视化 生成新的数据点\n",
    "X_range = np.linspace(40,400,300).reshape(-1,1)\n",
    "print(X_range.shape,min(X_range),max(X_range))\n",
    "print(X_range)\n",
    "y_range_predict = model1.predict(X_range)"
   ]
  },
  {
   "cell_type": "code",
   "execution_count": 9,
   "metadata": {},
   "outputs": [
    {
     "data": {
      "image/png": "[encoded data removed]",
      "text/plain": [
       "<Figure size 432x288 with 1 Axes>"
      ]
     },
     "metadata": {
      "needs_background": "light"
     },
     "output_type": "display_data"
    }
   ],
   "source": [
    "#结果可视化\n",
    "fig2 = plt.figure()\n",
    "data_train = plt.scatter(X_train,y_train,label='training data')\n",
    "data_test = plt.scatter(X_test,y_test,label='test data')\n",
    "curve_p = plt.plot(X_range,y_range_predict,'r',label='predicted curve')\n",
    "plt.title('training-test data')\n",
    "plt.xlabel('x_d')\n",
    "plt.ylabel('y_d')\n",
    "plt.legend()\n",
    "plt.show()"
   ]
  },
  {
   "cell_type": "code",
   "execution_count": 10,
   "metadata": {},
   "outputs": [
    {
     "name": "stdout",
     "output_type": "stream",
     "text": [
      "(12, 1) (12, 3)\n",
      "[[232.274 ]\n",
      " [ 64.8744]\n",
      " [ 88.8854]\n",
      " [116.517 ]\n",
      " [151.444 ]] [[1.00000000e+00 2.32274000e+02 5.39512111e+04]\n",
      " [1.00000000e+00 6.48744000e+01 4.20868778e+03]\n",
      " [1.00000000e+00 8.88854000e+01 7.90061433e+03]\n",
      " [1.00000000e+00 1.16517000e+02 1.35762113e+04]\n",
      " [1.00000000e+00 1.51444000e+02 2.29352851e+04]]\n"
     ]
    }
   ],
   "source": [
    "#生成二阶属性数据\n",
    "from sklearn.preprocessing import PolynomialFeatures\n",
    "poly2 = PolynomialFeatures(degree=2)\n",
    "X_2_train = poly2.fit_transform(X_train)\n",
    "X_2_test = poly2.transform(X_test)\n",
    "print(X_train.shape,X_2_train.shape)\n",
    "print(X_train[0:5],X_2_train[0:5,:])"
   ]
  },
  {
   "cell_type": "code",
   "execution_count": 11,
   "metadata": {},
   "outputs": [
    {
     "data": {
      "text/plain": [
       "LinearRegression()"
      ]
     },
     "execution_count": 11,
     "metadata": {},
     "output_type": "execute_result"
    }
   ],
   "source": [
    "#建立新的回归模型 训练\n",
    "model2 = LinearRegression()\n",
    "model2.fit(X_2_train,y_train)\n"
   ]
  },
  {
   "cell_type": "code",
   "execution_count": 12,
   "metadata": {},
   "outputs": [
    {
     "name": "stdout",
     "output_type": "stream",
     "text": [
      "0.9954725354913146 0.9738532191575348\n"
     ]
    }
   ],
   "source": [
    "#模型预测及评估\n",
    "y_2_train_predict = model2.predict(X_2_train)\n",
    "y_2_test_predict = model2.predict(X_2_test)\n",
    "r2_2_train = r2_score(y_train,y_2_train_predict)\n",
    "r2_2_test = r2_score(y_test,y_2_test_predict)\n",
    "print(r2_2_train,r2_2_test)"
   ]
  },
  {
   "cell_type": "code",
   "execution_count": 13,
   "metadata": {},
   "outputs": [],
   "source": [
    "#结果可视化 生成新的数据点\n",
    "X_range = np.linspace(40,400,300).reshape(-1,1)\n",
    "X_2_range = poly2.transform(X_range)\n",
    "y_2_range_predict = model2.predict(X_2_range)"
   ]
  },
  {
   "cell_type": "code",
   "execution_count": 14,
   "metadata": {},
   "outputs": [
    {
     "data": {
      "image/png": "[encoded data removed]",
      "text/plain": [
       "<Figure size 432x288 with 1 Axes>"
      ]
     },
     "metadata": {
      "needs_background": "light"
     },
     "output_type": "display_data"
    }
   ],
   "source": [
    "fig3 = plt.figure()\n",
    "data_train = plt.scatter(X_train,y_train,label='training data')\n",
    "data_test = plt.scatter(X_test,y_test,label='test data')\n",
    "curve_p = plt.plot(X_range,y_2_range_predict,'r',label='predicted curve')\n",
    "plt.title('training-test data (poly2)')\n",
    "plt.xlabel('x_d')\n",
    "plt.ylabel('y_d')\n",
    "plt.legend()\n",
    "plt.show()"
   ]
  },
  {
   "cell_type": "code",
   "execution_count": 15,
   "metadata": {},
   "outputs": [
    {
     "name": "stdout",
     "output_type": "stream",
     "text": [
      "(12, 1) (12, 7)\n",
      "[[232.274 ]\n",
      " [ 64.8744]\n",
      " [ 88.8854]\n",
      " [116.517 ]\n",
      " [151.444 ]] [[1.00000000e+00 2.32274000e+02 5.39512111e+04 1.25314636e+07\n",
      "  2.91073318e+09 6.76087638e+11 1.57037580e+14]\n",
      " [1.00000000e+00 6.48744000e+01 4.20868778e+03 2.73036094e+05\n",
      "  1.77130528e+07 1.14912367e+09 7.45487087e+10]\n",
      " [1.00000000e+00 8.88854000e+01 7.90061433e+03 7.02249265e+05\n",
      "  6.24197068e+07 5.54820061e+09 4.93154031e+11]\n",
      " [1.00000000e+00 1.16517000e+02 1.35762113e+04 1.58185941e+06\n",
      "  1.84313513e+08 2.14756576e+10 2.50227920e+12]\n",
      " [1.00000000e+00 1.51444000e+02 2.29352851e+04 3.47341132e+06\n",
      "  5.26027304e+08 7.96636791e+10 1.20645862e+13]]\n"
     ]
    }
   ],
   "source": [
    "#生成六阶属性数据\n",
    "from sklearn.preprocessing import PolynomialFeatures\n",
    "poly6 = PolynomialFeatures(degree=6)\n",
    "X_6_train = poly6.fit_transform(X_train)\n",
    "X_6_test = poly6.transform(X_test)\n",
    "print(X_train.shape,X_6_train.shape)\n",
    "print(X_train[0:5],X_6_train[0:5,:])"
   ]
  },
  {
   "cell_type": "code",
   "execution_count": 16,
   "metadata": {},
   "outputs": [
    {
     "name": "stdout",
     "output_type": "stream",
     "text": [
      "0.9997685987915845 -3.296834183909657\n"
     ]
    }
   ],
   "source": [
    "#建立新的回归模型 训练\n",
    "model6 = LinearRegression()\n",
    "model6.fit(X_6_train,y_train)\n",
    "#模型预测及评估\n",
    "y_6_train_predict = model6.predict(X_6_train)\n",
    "y_6_test_predict = model6.predict(X_6_test)\n",
    "r2_6_train = r2_score(y_train,y_6_train_predict)\n",
    "r2_6_test = r2_score(y_test,y_6_test_predict)\n",
    "print(r2_6_train,r2_6_test)"
   ]
  },
  {
   "cell_type": "code",
   "execution_count": 17,
   "metadata": {},
   "outputs": [],
   "source": [
    "#结果可视化 生成新的数据点\n",
    "X_range = np.linspace(40,400,300).reshape(-1,1)\n",
    "X_6_range = poly6.transform(X_range)\n",
    "y_6_range_predict = model6.predict(X_6_range)"
   ]
  },
  {
   "cell_type": "code",
   "execution_count": 18,
   "metadata": {},
   "outputs": [
    {
     "data": {
      "image/png": "[encoded data removed]",
      "text/plain": [
       "<Figure size 432x288 with 1 Axes>"
      ]
     },
     "metadata": {
      "needs_background": "light"
     },
     "output_type": "display_data"
    }
   ],
   "source": [
    "fig4 = plt.figure()\n",
    "data_train = plt.scatter(X_train,y_train,label='training data')\n",
    "data_test = plt.scatter(X_test,y_test,label='test data')\n",
    "curve_p = plt.plot(X_range,y_6_range_predict,'r',label='predicted curve')\n",
    "plt.title('training-test data (poly6)')\n",
    "plt.xlabel('x_d')\n",
    "plt.ylabel('y_d')\n",
    "plt.legend()\n",
    "plt.show()"
   ]
  },
  {
   "cell_type": "raw",
   "metadata": {
    "pycharm": {
     "name": "#%% raw\n"
    }
   },
   "source": [
    "炮弹发射轨迹预测实战summary：\n",
    "\n",
    "1、通过建立线性回归模型，实现了对炮弹发射轨迹的预测，训练数据、测试数据的r2分数分别为0.57、-1.6，模型欠拟合；\n",
    "2、引入二阶多项式建立非线性回归模型后，模型表现提升明显，无论针对训练或测试数据都得到一个高的r2分数（0.99、0.97）；\n",
    "3、引入更高阶属性数据后（六阶多项式回归模型），将导致过拟合情况。过拟合情况下，对于训练数据r2分数0.99（预测准确），但对于预测数据r2分数-3.3（预测不准确）;\n",
    "4、无论时通过r2分数，或是可视化模型结果，都可以发现二阶多项式回归模型效果最好\n",
    "\n",
    "核心算法参考链接：https://scikit-learn.org/stable/modules/generated/sklearn.linear_model.LinearRegression.html\n",
    "\n"
   ]
  }
 ],
 "metadata": {
  "kernelspec": {
   "display_name": "Python 3",
   "language": "python",
   "name": "python3"
  },
  "language_info": {
   "codemirror_mode": {
    "name": "ipython",
    "version": 3
   },
   "file_extension": ".py",
   "mimetype": "text/x-python",
   "name": "python",
   "nbconvert_exporter": "python",
   "pygments_lexer": "ipython3",
   "version": "3.7.0"
  }
 },
 "nbformat": 4,
 "nbformat_minor": 2
}