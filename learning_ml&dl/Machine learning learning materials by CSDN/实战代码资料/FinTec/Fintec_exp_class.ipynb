{
 "cells": [
  {
   "cell_type": "code",
   "execution_count": 1,
   "metadata": {},
   "outputs": [],
   "source": [
    "#载入数据处理必备的模组\n",
    "import numpy as np\n",
    "import pandas as pd"
   ]
  },
  {
   "cell_type": "code",
   "execution_count": 2,
   "metadata": {},
   "outputs": [
    {
     "name": "stdout",
     "output_type": "stream",
     "text": [
      "  stock_code       revenue  s_fa_eps_basic     du_profit  plus_net_invest_inc  \\\n",
      "0  000001.SZ  8.196800e+10          1.0600  0.000000e+00         0.000000e+00   \n",
      "1  000002.SZ  1.170000e+11          1.0050  2.222772e+10         2.046834e+09   \n",
      "2  000008.SZ  1.007329e+09          0.0434  1.776341e+08         0.000000e+00   \n",
      "3  000060.SZ  1.482919e+10          0.3800  1.279332e+09         2.853988e+07   \n",
      "4  000063.SZ  4.775730e+10          0.9300  5.884933e+09        -1.951700e+07   \n",
      "\n",
      "   net_cash_flows_oper_act  net_cash_flows_inv_act  net_roe  total_roe  \\\n",
      "0            -1.530000e+11           -9.716200e+10   8.7813     0.6289   \n",
      "1             6.474047e+09            1.392036e+10   9.5305     1.6026   \n",
      "2            -9.947078e+07           -1.193312e+09   1.9528     1.5235   \n",
      "3             7.571307e+08           -4.932751e+08   8.6684     4.9238   \n",
      "4            -3.170483e+09           -4.387188e+09  12.6504     2.9854   \n",
      "\n",
      "         RSI       VOL      WILLR         y      date  \n",
      "0  52.970207  0.009827 -95.652174  0.035853  20171207  \n",
      "1  52.688324  0.006181 -98.727735  0.028047  20171207  \n",
      "2  30.723514  0.002209 -84.210526  0.050602  20171207  \n",
      "3  38.133602  0.006967 -80.000000  0.019249  20171207  \n",
      "4  49.792643  0.033398 -81.718963  0.068517  20171207  \n",
      "8100\n"
     ]
    }
   ],
   "source": [
    "#载入数据\n",
    "data=pd.read_csv(\"data/data.csv\")\n",
    "print(data.head())\n",
    "print(len(data))\n",
    "\n"
   ]
  },
  {
   "cell_type": "code",
   "execution_count": 3,
   "metadata": {},
   "outputs": [
    {
     "name": "stdout",
     "output_type": "stream",
     "text": [
      "[20171207, 20180105, 20180209, 20180309, 20180412, 20180510, 20180608, 20180706, 20180803, 20180831, 20181006, 20181103, 20181201, 20190102, 20190206, 20190306, 20190404, 20190507, 20190605, 20190703, 20190731, 20190829, 20191003, 20191031, 20191128, 20191227, 20200201]\n"
     ]
    }
   ],
   "source": [
    "#分析数据的日期\n",
    "date=data.loc[:,\"date\"]\n",
    "date=date.tolist()\n",
    "date=set(date)\n",
    "date=list(date)\n",
    "date=sorted(date)\n",
    "print(date)\n",
    "\n",
    "\n"
   ]
  },
  {
   "cell_type": "code",
   "execution_count": 4,
   "metadata": {},
   "outputs": [],
   "source": [
    "#准备数据输入和标签\n",
    "data=data.set_index([\"stock_code\"])\n",
    "\n",
    "\n",
    "#数据清洗，去除NAN\n",
    "\n",
    "data=data.dropna()\n",
    "\n",
    "x_data=data.drop([\"date\",\"y\"],axis=1)\n",
    "y_data=data.loc[:,\"y\"]\n",
    "\n",
    "\n"
   ]
  },
  {
   "cell_type": "code",
   "execution_count": 5,
   "metadata": {},
   "outputs": [],
   "source": [
    "#对于数据进行预处理\n",
    "from sklearn.decomposition import PCA\n",
    "from sklearn.preprocessing import MinMaxScaler\n",
    "\n",
    "#对输入数据进行处理，提取可以被机器学习接受的数组形式\n",
    "\n",
    "x=x_data.values\n",
    "\n",
    "#对数据进行归一化处理\n",
    "nm_scaler=MinMaxScaler()\n",
    "x=nm_scaler.fit_transform(x)\n",
    "\n",
    "# 使用主成分分析，对数据作降维处理，提取10个关键的特征\n",
    "\n",
    "pca=PCA(n_components=7)\n",
    "x=pca.fit_transform(x)\n",
    "\n",
    "\n",
    "\n",
    "#划分训练和测试数据集\n",
    "\n",
    "train_x=x[0:5702]\n",
    "test_x=x[5702:]\n",
    "\n"
   ]
  },
  {
   "cell_type": "code",
   "execution_count": 6,
   "metadata": {},
   "outputs": [],
   "source": [
    "#对标签数据进行处理\n",
    "y=y_data.copy()\n",
    "y=y.values\n",
    "\n",
    "#把结果二值化用于分类的标签\n",
    "\n",
    "y[y>=0.04]=1\n",
    "y[y<0.04]=0\n",
    "\n",
    "\n",
    "#划分训练和测试标签集\n",
    "\n",
    "train_y=y[0:5702]\n",
    "test_y=y[5702:]\n",
    "\n",
    "\n",
    "\n"
   ]
  },
  {
   "cell_type": "code",
   "execution_count": 7,
   "metadata": {},
   "outputs": [],
   "source": [
    "# 构建最基础的机器学习KNN模型，对模型进行训练\n",
    "from sklearn.neighbors import KNeighborsClassifier\n",
    "knn=KNeighborsClassifier(n_neighbors=3,weights=\"distance\")\n",
    "\n",
    "knn.fit(train_x,train_y)\n",
    "predict_train_y=knn.predict(train_x)\n",
    "\n",
    "\n"
   ]
  },
  {
   "cell_type": "code",
   "execution_count": 8,
   "metadata": {},
   "outputs": [
    {
     "name": "stdout",
     "output_type": "stream",
     "text": [
      "[0. 0. 1. ... 0. 0. 0.]\n"
     ]
    }
   ],
   "source": [
    "print(predict_train_y)"
   ]
  },
  {
   "cell_type": "code",
   "execution_count": 9,
   "metadata": {},
   "outputs": [
    {
     "name": "stdout",
     "output_type": "stream",
     "text": [
      "1.0\n",
      "[[4263    0]\n",
      " [   0 1439]]\n"
     ]
    }
   ],
   "source": [
    "# 查看训练的拟合度\n",
    "\n",
    "from sklearn.metrics import accuracy_score, confusion_matrix\n",
    "\n",
    "print(accuracy_score(train_y,predict_train_y))\n",
    "cm=confusion_matrix(train_y,predict_train_y)\n",
    "print(cm)\n"
   ]
  },
  {
   "cell_type": "code",
   "execution_count": 10,
   "metadata": {},
   "outputs": [
    {
     "name": "stdout",
     "output_type": "stream",
     "text": [
      "0.5957642725598526\n",
      "[[1132  226]\n",
      " [ 652  162]]\n"
     ]
    }
   ],
   "source": [
    "# 查看测试结果\n",
    "predict_test_y=knn.predict(test_x)\n",
    "\n",
    "print(accuracy_score(test_y,predict_test_y))\n",
    "cm=confusion_matrix(test_y,predict_test_y)\n",
    "print(cm)\n",
    "\n",
    "\n",
    "\n"
   ]
  },
  {
   "cell_type": "code",
   "execution_count": 11,
   "metadata": {},
   "outputs": [
    {
     "name": "stderr",
     "output_type": "stream",
     "text": [
      "Using TensorFlow backend.\n",
      "D:\\Users\\Anaconda3\\envs\\DL_interview\\lib\\site-packages\\tensorflow\\python\\framework\\dtypes.py:526: FutureWarning: Passing (type, 1) or '1type' as a synonym of type is deprecated; in a future version of numpy, it will be understood as (type, (1,)) / '(1,)type'.\n",
      "  _np_qint8 = np.dtype([(\"qint8\", np.int8, 1)])\n",
      "D:\\Users\\Anaconda3\\envs\\DL_interview\\lib\\site-packages\\tensorflow\\python\\framework\\dtypes.py:527: FutureWarning: Passing (type, 1) or '1type' as a synonym of type is deprecated; in a future version of numpy, it will be understood as (type, (1,)) / '(1,)type'.\n",
      "  _np_quint8 = np.dtype([(\"quint8\", np.uint8, 1)])\n",
      "D:\\Users\\Anaconda3\\envs\\DL_interview\\lib\\site-packages\\tensorflow\\python\\framework\\dtypes.py:528: FutureWarning: Passing (type, 1) or '1type' as a synonym of type is deprecated; in a future version of numpy, it will be understood as (type, (1,)) / '(1,)type'.\n",
      "  _np_qint16 = np.dtype([(\"qint16\", np.int16, 1)])\n",
      "D:\\Users\\Anaconda3\\envs\\DL_interview\\lib\\site-packages\\tensorflow\\python\\framework\\dtypes.py:529: FutureWarning: Passing (type, 1) or '1type' as a synonym of type is deprecated; in a future version of numpy, it will be understood as (type, (1,)) / '(1,)type'.\n",
      "  _np_quint16 = np.dtype([(\"quint16\", np.uint16, 1)])\n",
      "D:\\Users\\Anaconda3\\envs\\DL_interview\\lib\\site-packages\\tensorflow\\python\\framework\\dtypes.py:530: FutureWarning: Passing (type, 1) or '1type' as a synonym of type is deprecated; in a future version of numpy, it will be understood as (type, (1,)) / '(1,)type'.\n",
      "  _np_qint32 = np.dtype([(\"qint32\", np.int32, 1)])\n",
      "D:\\Users\\Anaconda3\\envs\\DL_interview\\lib\\site-packages\\tensorflow\\python\\framework\\dtypes.py:535: FutureWarning: Passing (type, 1) or '1type' as a synonym of type is deprecated; in a future version of numpy, it will be understood as (type, (1,)) / '(1,)type'.\n",
      "  np_resource = np.dtype([(\"resource\", np.ubyte, 1)])\n"
     ]
    }
   ],
   "source": [
    "#搭建ANN模型，载入必须的库\n",
    "\n",
    "from keras.models import Sequential\n",
    "from keras.layers import Dense, Activation\n",
    "from keras.optimizers import Adam\n"
   ]
  },
  {
   "cell_type": "code",
   "execution_count": 14,
   "metadata": {},
   "outputs": [],
   "source": [
    "#搭建模型\n",
    "\n",
    "model=Sequential([Dense(10,input_dim=7),Activation(\"tanh\"),Dense(1),Activation(\"sigmoid\")])\n",
    "\n",
    "adam=Adam(lr=0.01)\n",
    "model.compile(optimizer=adam,loss=\"mean_squared_error\",metrics=[\"accuracy\"])\n",
    "\n"
   ]
  },
  {
   "cell_type": "code",
   "execution_count": 15,
   "metadata": {},
   "outputs": [
    {
     "name": "stdout",
     "output_type": "stream",
     "text": [
      "WARNING:tensorflow:From D:\\Users\\Anaconda3\\envs\\DL_interview\\lib\\site-packages\\tensorflow\\python\\ops\\math_ops.py:3066: to_int32 (from tensorflow.python.ops.math_ops) is deprecated and will be removed in a future version.\n",
      "Instructions for updating:\n",
      "Use tf.cast instead.\n"
     ]
    },
    {
     "name": "stderr",
     "output_type": "stream",
     "text": [
      "D:\\Users\\Anaconda3\\envs\\DL_interview\\lib\\site-packages\\ipykernel_launcher.py:2: UserWarning: The `nb_epoch` argument in `fit` has been renamed `epochs`.\n",
      "  \n"
     ]
    },
    {
     "name": "stdout",
     "output_type": "stream",
     "text": [
      "Epoch 1/100\n",
      "5702/5702 [==============================] - 0s 30us/step - loss: 0.2231 - acc: 0.7099\n",
      "Epoch 2/100\n",
      "5702/5702 [==============================] - 0s 2us/step - loss: 0.1880 - acc: 0.7480\n",
      "Epoch 3/100\n",
      "5702/5702 [==============================] - 0s 4us/step - loss: 0.1843 - acc: 0.7478\n",
      "Epoch 4/100\n",
      "5702/5702 [==============================] - 0s 3us/step - loss: 0.1832 - acc: 0.7480\n",
      "Epoch 5/100\n",
      "5702/5702 [==============================] - 0s 3us/step - loss: 0.1823 - acc: 0.7489\n",
      "Epoch 6/100\n",
      "5702/5702 [==============================] - 0s 4us/step - loss: 0.1821 - acc: 0.7494\n",
      "Epoch 7/100\n",
      "5702/5702 [==============================] - 0s 3us/step - loss: 0.1818 - acc: 0.7501\n",
      "Epoch 8/100\n",
      "5702/5702 [==============================] - 0s 3us/step - loss: 0.1816 - acc: 0.7503\n",
      "Epoch 9/100\n",
      "5702/5702 [==============================] - 0s 4us/step - loss: 0.1816 - acc: 0.7510\n",
      "Epoch 10/100\n",
      "5702/5702 [==============================] - 0s 3us/step - loss: 0.1816 - acc: 0.7503\n",
      "Epoch 11/100\n",
      "5702/5702 [==============================] - 0s 3us/step - loss: 0.1814 - acc: 0.7501\n",
      "Epoch 12/100\n",
      "5702/5702 [==============================] - 0s 3us/step - loss: 0.1814 - acc: 0.7501\n",
      "Epoch 13/100\n",
      "5702/5702 [==============================] - 0s 4us/step - loss: 0.1815 - acc: 0.7499\n",
      "Epoch 14/100\n",
      "5702/5702 [==============================] - 0s 3us/step - loss: 0.1814 - acc: 0.7497\n",
      "Epoch 15/100\n",
      "5702/5702 [==============================] - 0s 3us/step - loss: 0.1814 - acc: 0.7506\n",
      "Epoch 16/100\n",
      "5702/5702 [==============================] - 0s 4us/step - loss: 0.1814 - acc: 0.7501\n",
      "Epoch 17/100\n",
      "5702/5702 [==============================] - 0s 3us/step - loss: 0.1815 - acc: 0.7499\n",
      "Epoch 18/100\n",
      "5702/5702 [==============================] - 0s 3us/step - loss: 0.1818 - acc: 0.7499\n",
      "Epoch 19/100\n",
      "5702/5702 [==============================] - 0s 3us/step - loss: 0.1814 - acc: 0.7503\n",
      "Epoch 20/100\n",
      "5702/5702 [==============================] - 0s 3us/step - loss: 0.1813 - acc: 0.7496\n",
      "Epoch 21/100\n",
      "5702/5702 [==============================] - 0s 3us/step - loss: 0.1814 - acc: 0.7506\n",
      "Epoch 22/100\n",
      "5702/5702 [==============================] - 0s 3us/step - loss: 0.1813 - acc: 0.7496\n",
      "Epoch 23/100\n",
      "5702/5702 [==============================] - 0s 4us/step - loss: 0.1814 - acc: 0.7499\n",
      "Epoch 24/100\n",
      "5702/5702 [==============================] - 0s 3us/step - loss: 0.1813 - acc: 0.7506\n",
      "Epoch 25/100\n",
      "5702/5702 [==============================] - 0s 4us/step - loss: 0.1814 - acc: 0.7490\n",
      "Epoch 26/100\n",
      "5702/5702 [==============================] - 0s 3us/step - loss: 0.1812 - acc: 0.7499\n",
      "Epoch 27/100\n",
      "5702/5702 [==============================] - 0s 3us/step - loss: 0.1813 - acc: 0.7503\n",
      "Epoch 28/100\n",
      "5702/5702 [==============================] - 0s 3us/step - loss: 0.1813 - acc: 0.7499\n",
      "Epoch 29/100\n",
      "5702/5702 [==============================] - 0s 4us/step - loss: 0.1812 - acc: 0.7499\n",
      "Epoch 30/100\n",
      "5702/5702 [==============================] - 0s 4us/step - loss: 0.1813 - acc: 0.7511\n",
      "Epoch 31/100\n",
      "5702/5702 [==============================] - 0s 3us/step - loss: 0.1813 - acc: 0.7494\n",
      "Epoch 32/100\n",
      "5702/5702 [==============================] - 0s 2us/step - loss: 0.1812 - acc: 0.7504\n",
      "Epoch 33/100\n",
      "5702/5702 [==============================] - 0s 4us/step - loss: 0.1812 - acc: 0.7499\n",
      "Epoch 34/100\n",
      "5702/5702 [==============================] - 0s 4us/step - loss: 0.1811 - acc: 0.7503\n",
      "Epoch 35/100\n",
      "5702/5702 [==============================] - 0s 3us/step - loss: 0.1812 - acc: 0.7501\n",
      "Epoch 36/100\n",
      "5702/5702 [==============================] - 0s 4us/step - loss: 0.1812 - acc: 0.7496\n",
      "Epoch 37/100\n",
      "5702/5702 [==============================] - 0s 3us/step - loss: 0.1810 - acc: 0.7501\n",
      "Epoch 38/100\n",
      "5702/5702 [==============================] - 0s 4us/step - loss: 0.1811 - acc: 0.7501\n",
      "Epoch 39/100\n",
      "5702/5702 [==============================] - 0s 2us/step - loss: 0.1812 - acc: 0.7496\n",
      "Epoch 40/100\n",
      "5702/5702 [==============================] - 0s 3us/step - loss: 0.1810 - acc: 0.7503\n",
      "Epoch 41/100\n",
      "5702/5702 [==============================] - 0s 4us/step - loss: 0.1811 - acc: 0.7503\n",
      "Epoch 42/100\n",
      "5702/5702 [==============================] - 0s 4us/step - loss: 0.1811 - acc: 0.7503\n",
      "Epoch 43/100\n",
      "5702/5702 [==============================] - 0s 3us/step - loss: 0.1811 - acc: 0.7499\n",
      "Epoch 44/100\n",
      "5702/5702 [==============================] - 0s 3us/step - loss: 0.1809 - acc: 0.7497\n",
      "Epoch 45/100\n",
      "5702/5702 [==============================] - 0s 4us/step - loss: 0.1809 - acc: 0.7496\n",
      "Epoch 46/100\n",
      "5702/5702 [==============================] - 0s 3us/step - loss: 0.1810 - acc: 0.7497\n",
      "Epoch 47/100\n",
      "5702/5702 [==============================] - 0s 3us/step - loss: 0.1808 - acc: 0.7497\n",
      "Epoch 48/100\n",
      "5702/5702 [==============================] - 0s 2us/step - loss: 0.1808 - acc: 0.7503\n",
      "Epoch 49/100\n",
      "5702/5702 [==============================] - 0s 4us/step - loss: 0.1808 - acc: 0.7499\n",
      "Epoch 50/100\n",
      "5702/5702 [==============================] - 0s 3us/step - loss: 0.1808 - acc: 0.7503\n",
      "Epoch 51/100\n",
      "5702/5702 [==============================] - 0s 3us/step - loss: 0.1809 - acc: 0.7499\n",
      "Epoch 52/100\n",
      "5702/5702 [==============================] - 0s 3us/step - loss: 0.1807 - acc: 0.7499\n",
      "Epoch 53/100\n",
      "5702/5702 [==============================] - 0s 4us/step - loss: 0.1807 - acc: 0.7501\n",
      "Epoch 54/100\n",
      "5702/5702 [==============================] - 0s 3us/step - loss: 0.1807 - acc: 0.7499\n",
      "Epoch 55/100\n",
      "5702/5702 [==============================] - 0s 3us/step - loss: 0.1806 - acc: 0.7503\n",
      "Epoch 56/100\n",
      "5702/5702 [==============================] - 0s 4us/step - loss: 0.1807 - acc: 0.7503\n",
      "Epoch 57/100\n",
      "5702/5702 [==============================] - 0s 3us/step - loss: 0.1806 - acc: 0.7499\n",
      "Epoch 58/100\n",
      "5702/5702 [==============================] - 0s 4us/step - loss: 0.1806 - acc: 0.7499\n",
      "Epoch 59/100\n",
      "5702/5702 [==============================] - 0s 3us/step - loss: 0.1807 - acc: 0.7503\n",
      "Epoch 60/100\n",
      "5702/5702 [==============================] - 0s 2us/step - loss: 0.1806 - acc: 0.7499\n",
      "Epoch 61/100\n",
      "5702/5702 [==============================] - 0s 4us/step - loss: 0.1805 - acc: 0.7501\n",
      "Epoch 62/100\n",
      "5702/5702 [==============================] - 0s 4us/step - loss: 0.1805 - acc: 0.7504\n",
      "Epoch 63/100\n",
      "5702/5702 [==============================] - 0s 3us/step - loss: 0.1804 - acc: 0.7496\n",
      "Epoch 64/100\n",
      "5702/5702 [==============================] - 0s 3us/step - loss: 0.1804 - acc: 0.7504\n",
      "Epoch 65/100\n",
      "5702/5702 [==============================] - 0s 2us/step - loss: 0.1804 - acc: 0.7508\n",
      "Epoch 66/100\n",
      "5702/5702 [==============================] - 0s 2us/step - loss: 0.1803 - acc: 0.7501\n",
      "Epoch 67/100\n",
      "5702/5702 [==============================] - 0s 3us/step - loss: 0.1805 - acc: 0.7499\n",
      "Epoch 68/100\n",
      "5702/5702 [==============================] - 0s 3us/step - loss: 0.1804 - acc: 0.7501\n",
      "Epoch 69/100\n",
      "5702/5702 [==============================] - 0s 3us/step - loss: 0.1803 - acc: 0.7504\n",
      "Epoch 70/100\n",
      "5702/5702 [==============================] - 0s 3us/step - loss: 0.1802 - acc: 0.7503\n",
      "Epoch 71/100\n",
      "5702/5702 [==============================] - 0s 3us/step - loss: 0.1802 - acc: 0.7501\n",
      "Epoch 72/100\n",
      "5702/5702 [==============================] - 0s 3us/step - loss: 0.1802 - acc: 0.7503\n",
      "Epoch 73/100\n",
      "5702/5702 [==============================] - 0s 3us/step - loss: 0.1803 - acc: 0.7501\n",
      "Epoch 74/100\n",
      "5702/5702 [==============================] - 0s 2us/step - loss: 0.1802 - acc: 0.7506\n",
      "Epoch 75/100\n",
      "5702/5702 [==============================] - 0s 3us/step - loss: 0.1802 - acc: 0.7499\n",
      "Epoch 76/100\n",
      "5702/5702 [==============================] - 0s 3us/step - loss: 0.1803 - acc: 0.7504\n",
      "Epoch 77/100\n",
      "5702/5702 [==============================] - 0s 3us/step - loss: 0.1802 - acc: 0.7499\n",
      "Epoch 78/100\n",
      "5702/5702 [==============================] - 0s 3us/step - loss: 0.1801 - acc: 0.7503\n",
      "Epoch 79/100\n",
      "5702/5702 [==============================] - 0s 3us/step - loss: 0.1801 - acc: 0.7499\n",
      "Epoch 80/100\n",
      "5702/5702 [==============================] - 0s 3us/step - loss: 0.1802 - acc: 0.7503\n",
      "Epoch 81/100\n",
      "5702/5702 [==============================] - 0s 2us/step - loss: 0.1801 - acc: 0.7506\n",
      "Epoch 82/100\n",
      "5702/5702 [==============================] - 0s 4us/step - loss: 0.1800 - acc: 0.7506\n",
      "Epoch 83/100\n"
     ]
    },
    {
     "name": "stdout",
     "output_type": "stream",
     "text": [
      "5702/5702 [==============================] - 0s 3us/step - loss: 0.1800 - acc: 0.7499\n",
      "Epoch 84/100\n",
      "5702/5702 [==============================] - 0s 3us/step - loss: 0.1800 - acc: 0.7508\n",
      "Epoch 85/100\n",
      "5702/5702 [==============================] - 0s 2us/step - loss: 0.1800 - acc: 0.7503\n",
      "Epoch 86/100\n",
      "5702/5702 [==============================] - 0s 4us/step - loss: 0.1800 - acc: 0.7497\n",
      "Epoch 87/100\n",
      "5702/5702 [==============================] - 0s 4us/step - loss: 0.1800 - acc: 0.7504\n",
      "Epoch 88/100\n",
      "5702/5702 [==============================] - 0s 3us/step - loss: 0.1800 - acc: 0.7508\n",
      "Epoch 89/100\n",
      "5702/5702 [==============================] - 0s 4us/step - loss: 0.1800 - acc: 0.7511\n",
      "Epoch 90/100\n",
      "5702/5702 [==============================] - 0s 3us/step - loss: 0.1799 - acc: 0.7513\n",
      "Epoch 91/100\n",
      "5702/5702 [==============================] - 0s 4us/step - loss: 0.1799 - acc: 0.7508\n",
      "Epoch 92/100\n",
      "5702/5702 [==============================] - 0s 5us/step - loss: 0.1799 - acc: 0.7510\n",
      "Epoch 93/100\n",
      "5702/5702 [==============================] - 0s 5us/step - loss: 0.1799 - acc: 0.7501\n",
      "Epoch 94/100\n",
      "5702/5702 [==============================] - 0s 4us/step - loss: 0.1799 - acc: 0.7511\n",
      "Epoch 95/100\n",
      "5702/5702 [==============================] - 0s 6us/step - loss: 0.1799 - acc: 0.7510\n",
      "Epoch 96/100\n",
      "5702/5702 [==============================] - 0s 5us/step - loss: 0.1800 - acc: 0.7508\n",
      "Epoch 97/100\n",
      "5702/5702 [==============================] - 0s 4us/step - loss: 0.1798 - acc: 0.7504\n",
      "Epoch 98/100\n",
      "5702/5702 [==============================] - 0s 4us/step - loss: 0.1799 - acc: 0.7499\n",
      "Epoch 99/100\n",
      "5702/5702 [==============================] - 0s 4us/step - loss: 0.1801 - acc: 0.7504\n",
      "Epoch 100/100\n",
      "5702/5702 [==============================] - 0s 5us/step - loss: 0.1799 - acc: 0.7508\n"
     ]
    },
    {
     "data": {
      "text/plain": [
       "<keras.callbacks.History at 0x199d76d6048>"
      ]
     },
     "execution_count": 15,
     "metadata": {},
     "output_type": "execute_result"
    }
   ],
   "source": [
    "#训练模型\n",
    "model.fit(train_x,train_y,nb_epoch=100,batch_size=500)\n"
   ]
  },
  {
   "cell_type": "code",
   "execution_count": 16,
   "metadata": {},
   "outputs": [
    {
     "name": "stdout",
     "output_type": "stream",
     "text": [
      "[[0.19103503]\n",
      " [0.13108966]\n",
      " [0.19342291]\n",
      " ...\n",
      " [0.36240175]\n",
      " [0.2637457 ]\n",
      " [0.24705444]]\n"
     ]
    }
   ],
   "source": [
    "predict_test_y=model.predict(test_x)\n",
    "print(predict_test_y)"
   ]
  },
  {
   "cell_type": "code",
   "execution_count": 18,
   "metadata": {},
   "outputs": [
    {
     "name": "stdout",
     "output_type": "stream",
     "text": [
      "0.6270718232044199\n",
      "[[1356    2]\n",
      " [ 808    6]]\n"
     ]
    }
   ],
   "source": [
    "#测试模型表现\n",
    "from sklearn.metrics import accuracy_score, confusion_matrix\n",
    "#设定阈值\n",
    "predict_test_y=model.predict(test_x)\n",
    "theta=0.55\n",
    "predict_test_y[predict_test_y>=theta]=1\n",
    "predict_test_y[predict_test_y<theta]=0\n",
    "\n",
    "\n",
    "#将量化预测结果进行阈值分类\n",
    "\n",
    "acc=accuracy_score(test_y,predict_test_y)\n",
    "cm=confusion_matrix(test_y,predict_test_y)\n",
    "\n",
    "print(acc)\n",
    "print(cm)\n",
    "\n",
    "\n",
    "#查看统计结果\n"
   ]
  },
  {
   "cell_type": "code",
   "execution_count": null,
   "metadata": {},
   "outputs": [],
   "source": []
  },
  {
   "cell_type": "code",
   "execution_count": null,
   "metadata": {},
   "outputs": [],
   "source": []
  },
  {
   "cell_type": "code",
   "execution_count": null,
   "metadata": {},
   "outputs": [],
   "source": []
  },
  {
   "cell_type": "code",
   "execution_count": null,
   "metadata": {},
   "outputs": [],
   "source": []
  }
 ],
 "metadata": {
  "kernelspec": {
   "display_name": "Python 3",
   "language": "python",
   "name": "python3"
  },
  "language_info": {
   "codemirror_mode": {
    "name": "ipython",
    "version": 3
   },
   "file_extension": ".py",
   "mimetype": "text/x-python",
   "name": "python",
   "nbconvert_exporter": "python",
   "pygments_lexer": "ipython3",
   "version": "3.6.10"
  }
 },
 "nbformat": 4,
 "nbformat_minor": 4
}
