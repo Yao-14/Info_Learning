{
 "cells": [
  {
   "cell_type": "code",
   "execution_count": 1,
   "metadata": {},
   "outputs": [],
   "source": [
    "#载入数据处理必备的模组\n",
    "import pandas as pd\n",
    "import numpy as np"
   ]
  },
  {
   "cell_type": "code",
   "execution_count": 2,
   "metadata": {},
   "outputs": [
    {
     "name": "stdout",
     "output_type": "stream",
     "text": [
      "  stock_code       revenue  s_fa_eps_basic     du_profit  plus_net_invest_inc  \\\n",
      "0  000001.SZ  8.196800e+10          1.0600  0.000000e+00         0.000000e+00   \n",
      "1  000002.SZ  1.170000e+11          1.0050  2.222772e+10         2.046834e+09   \n",
      "2  000008.SZ  1.007329e+09          0.0434  1.776341e+08         0.000000e+00   \n",
      "3  000060.SZ  1.482919e+10          0.3800  1.279332e+09         2.853988e+07   \n",
      "4  000063.SZ  4.775730e+10          0.9300  5.884933e+09        -1.951700e+07   \n",
      "\n",
      "   net_cash_flows_oper_act  net_cash_flows_inv_act  net_roe  total_roe  \\\n",
      "0            -1.530000e+11           -9.716200e+10   8.7813     0.6289   \n",
      "1             6.474047e+09            1.392036e+10   9.5305     1.6026   \n",
      "2            -9.947078e+07           -1.193312e+09   1.9528     1.5235   \n",
      "3             7.571307e+08           -4.932751e+08   8.6684     4.9238   \n",
      "4            -3.170483e+09           -4.387188e+09  12.6504     2.9854   \n",
      "\n",
      "         RSI       VOL      WILLR         y      date  \n",
      "0  52.970207  0.009827 -95.652174  0.035853  20171207  \n",
      "1  52.688324  0.006181 -98.727735  0.028047  20171207  \n",
      "2  30.723514  0.002209 -84.210526  0.050602  20171207  \n",
      "3  38.133602  0.006967 -80.000000  0.019249  20171207  \n",
      "4  49.792643  0.033398 -81.718963  0.068517  20171207  \n"
     ]
    }
   ],
   "source": [
    "#载入数据\n",
    "data = pd.read_csv('data/data.csv')\n",
    "print(data.head())\n",
    "print(len(data))"
   ]
  },
  {
   "cell_type": "code",
   "execution_count": 5,
   "metadata": {},
   "outputs": [
    {
     "name": "stdout",
     "output_type": "stream",
     "text": [
      "8100\n",
      "[20171207, 20180105, 20180209, 20180309, 20180412, 20180510, 20180608, 20180706, 20180803, 20180831, 20181006, 20181103, 20181201, 20190102, 20190206, 20190306, 20190404, 20190507, 20190605, 20190703, 20190731, 20190829, 20191003, 20191031, 20191128, 20191227, 20200201]\n"
     ]
    }
   ],
   "source": [
    "print(len(data))\n",
    "date=data.loc[:,\"date\"]\n",
    "date =date.tolist()\n",
    "date = set(date)\n",
    "date = list(date)\n",
    "date = sorted(date)\n",
    "print(date)"
   ]
  },
  {
   "cell_type": "code",
   "execution_count": 6,
   "metadata": {},
   "outputs": [],
   "source": [
    "#准备数据输入和标签\n",
    "\n",
    "data = data.set_index(['stock_code'])\n",
    "#数据清洗，去除NAN\n",
    "data=data.dropna()\n",
    "\n",
    "\n",
    "x_data = data.drop(['date','y'],axis=1)\n",
    "y_data = data.loc[:,'y']"
   ]
  },
  {
   "cell_type": "code",
   "execution_count": 11,
   "metadata": {},
   "outputs": [],
   "source": [
    "#对于数据进行预处理\n",
    "from sklearn.decomposition import PCA\n",
    "from sklearn.preprocessing import MinMaxScaler\n",
    "\n",
    "#对输入数据进行处理\n",
    "#提取可以被机器学习接受的数组形式\n",
    "x=x_data.values\n",
    "\n",
    "#对数据进行归一化处理\n",
    "nm_scaler = MinMaxScaler()\n",
    "x = nm_scaler.fit_transform(x)\n",
    "\n",
    "# 使用主成分分析，对数据作降维处理，提取10个关键的特征\n",
    "pca = PCA(n_components=10)\n",
    "x = pca.fit_transform(x)\n",
    "\n",
    "#划分训练和测试数据集\n",
    "train_x=x[0:5702]\n",
    "test_x=x[5702:]"
   ]
  },
  {
   "cell_type": "code",
   "execution_count": 12,
   "metadata": {},
   "outputs": [],
   "source": [
    "\n",
    "#对标签数据进行处理\n",
    "y = y_data.copy()#缺省值去掉\n",
    "y = y.values\n",
    "\n",
    "#把结果二值化用于分类的标签\n",
    "y[y>=0.04]=1\n",
    "y[y<0.04]=0\n",
    "\n",
    "#划分训练和测试标签集\n",
    "train_y=y[0:5702]\n",
    "test_y=y[5702:]"
   ]
  },
  {
   "cell_type": "code",
   "execution_count": 14,
   "metadata": {},
   "outputs": [],
   "source": [
    "# 构建最基础的机器学习KNN模型，对模型进行训练\n",
    "from sklearn.neighbors import KNeighborsClassifier   \n",
    "    \n",
    "knn = KNeighborsClassifier(n_neighbors=3, weights='distance') \n",
    "\n",
    "knn.fit(train_x, train_y)\n",
    "predict_train_y = knn.predict(train_x)\n"
   ]
  },
  {
   "cell_type": "code",
   "execution_count": 15,
   "metadata": {},
   "outputs": [
    {
     "name": "stdout",
     "output_type": "stream",
     "text": [
      "1.0\n",
      "[[4263    0]\n",
      " [   0 1439]]\n"
     ]
    }
   ],
   "source": [
    "# 查看训练的拟合度\n",
    "from sklearn.metrics import accuracy_score,confusion_matrix\n",
    "theta=0.5\n",
    "predict_train_y[predict_train_y>=theta]=1\n",
    "predict_train_y[predict_train_y<theta]=0\n",
    "\n",
    "acc=accuracy_score(train_y,predict_train_y)\n",
    "cm = confusion_matrix(train_y,predict_train_y)\n",
    "#print(cm)\n",
    "print(acc)\n",
    "print(cm)"
   ]
  },
  {
   "cell_type": "code",
   "execution_count": 16,
   "metadata": {},
   "outputs": [
    {
     "name": "stdout",
     "output_type": "stream",
     "text": [
      "0.5925414364640884\n",
      "[[1130  228]\n",
      " [ 657  157]]\n"
     ]
    }
   ],
   "source": [
    "# 查看测试结果\n",
    "predict_test_y = knn.predict(test_x)\n",
    "\n",
    "\n",
    "theta=0.5\n",
    "predict_train_y[predict_train_y>=theta]=1\n",
    "predict_train_y[predict_train_y<theta]=0\n",
    "\n",
    "acc=accuracy_score(test_y,predict_test_y)\n",
    "cm = confusion_matrix(test_y,predict_test_y)\n",
    "#print(cm)\n",
    "print(acc)\n",
    "print(cm)"
   ]
  },
  {
   "cell_type": "code",
   "execution_count": 17,
   "metadata": {},
   "outputs": [
    {
     "name": "stderr",
     "output_type": "stream",
     "text": [
      "Using TensorFlow backend.\n",
      "D:\\Users\\Anaconda3\\envs\\env_cv\\lib\\site-packages\\tensorflow\\python\\framework\\dtypes.py:526: FutureWarning: Passing (type, 1) or '1type' as a synonym of type is deprecated; in a future version of numpy, it will be understood as (type, (1,)) / '(1,)type'.\n",
      "  _np_qint8 = np.dtype([(\"qint8\", np.int8, 1)])\n",
      "D:\\Users\\Anaconda3\\envs\\env_cv\\lib\\site-packages\\tensorflow\\python\\framework\\dtypes.py:527: FutureWarning: Passing (type, 1) or '1type' as a synonym of type is deprecated; in a future version of numpy, it will be understood as (type, (1,)) / '(1,)type'.\n",
      "  _np_quint8 = np.dtype([(\"quint8\", np.uint8, 1)])\n",
      "D:\\Users\\Anaconda3\\envs\\env_cv\\lib\\site-packages\\tensorflow\\python\\framework\\dtypes.py:528: FutureWarning: Passing (type, 1) or '1type' as a synonym of type is deprecated; in a future version of numpy, it will be understood as (type, (1,)) / '(1,)type'.\n",
      "  _np_qint16 = np.dtype([(\"qint16\", np.int16, 1)])\n",
      "D:\\Users\\Anaconda3\\envs\\env_cv\\lib\\site-packages\\tensorflow\\python\\framework\\dtypes.py:529: FutureWarning: Passing (type, 1) or '1type' as a synonym of type is deprecated; in a future version of numpy, it will be understood as (type, (1,)) / '(1,)type'.\n",
      "  _np_quint16 = np.dtype([(\"quint16\", np.uint16, 1)])\n",
      "D:\\Users\\Anaconda3\\envs\\env_cv\\lib\\site-packages\\tensorflow\\python\\framework\\dtypes.py:530: FutureWarning: Passing (type, 1) or '1type' as a synonym of type is deprecated; in a future version of numpy, it will be understood as (type, (1,)) / '(1,)type'.\n",
      "  _np_qint32 = np.dtype([(\"qint32\", np.int32, 1)])\n",
      "D:\\Users\\Anaconda3\\envs\\env_cv\\lib\\site-packages\\tensorflow\\python\\framework\\dtypes.py:535: FutureWarning: Passing (type, 1) or '1type' as a synonym of type is deprecated; in a future version of numpy, it will be understood as (type, (1,)) / '(1,)type'.\n",
      "  np_resource = np.dtype([(\"resource\", np.ubyte, 1)])\n"
     ]
    }
   ],
   "source": [
    "#搭建ANN模型\n",
    "from keras.models import Sequential\n",
    "from keras.layers import Dense, Activation\n",
    "from keras.optimizers import Adam\n",
    "\n"
   ]
  },
  {
   "cell_type": "code",
   "execution_count": 18,
   "metadata": {},
   "outputs": [
    {
     "name": "stdout",
     "output_type": "stream",
     "text": [
      "WARNING:tensorflow:From D:\\Users\\Anaconda3\\envs\\env_cv\\lib\\site-packages\\tensorflow\\python\\framework\\op_def_library.py:263: colocate_with (from tensorflow.python.framework.ops) is deprecated and will be removed in a future version.\n",
      "Instructions for updating:\n",
      "Colocations handled automatically by placer.\n",
      "WARNING:tensorflow:From D:\\Users\\Anaconda3\\envs\\env_cv\\lib\\site-packages\\tensorflow\\python\\ops\\math_ops.py:3066: to_int32 (from tensorflow.python.ops.math_ops) is deprecated and will be removed in a future version.\n",
      "Instructions for updating:\n",
      "Use tf.cast instead.\n",
      "Epoch 1/100\n"
     ]
    },
    {
     "name": "stderr",
     "output_type": "stream",
     "text": [
      "D:\\Users\\Anaconda3\\envs\\env_cv\\lib\\site-packages\\ipykernel_launcher.py:18: UserWarning: The `nb_epoch` argument in `fit` has been renamed `epochs`.\n"
     ]
    },
    {
     "name": "stdout",
     "output_type": "stream",
     "text": [
      "5702/5702 [==============================] - 0s 40us/step - loss: 0.2493 - acc: 0.5309\n",
      "Epoch 2/100\n",
      "5702/5702 [==============================] - 0s 1us/step - loss: 0.2439 - acc: 0.6442\n",
      "Epoch 3/100\n",
      "5702/5702 [==============================] - 0s 1us/step - loss: 0.2394 - acc: 0.6836\n",
      "Epoch 4/100\n",
      "5702/5702 [==============================] - 0s 1us/step - loss: 0.2344 - acc: 0.7129\n",
      "Epoch 5/100\n",
      "5702/5702 [==============================] - 0s 1us/step - loss: 0.2295 - acc: 0.7334\n",
      "Epoch 6/100\n",
      "5702/5702 [==============================] - 0s 1us/step - loss: 0.2248 - acc: 0.7418\n",
      "Epoch 7/100\n",
      "5702/5702 [==============================] - 0s 1us/step - loss: 0.2204 - acc: 0.7450\n",
      "Epoch 8/100\n",
      "5702/5702 [==============================] - 0s 1us/step - loss: 0.2161 - acc: 0.7461\n",
      "Epoch 9/100\n",
      "5702/5702 [==============================] - 0s 1us/step - loss: 0.2119 - acc: 0.7461\n",
      "Epoch 10/100\n",
      "5702/5702 [==============================] - 0s 1us/step - loss: 0.2081 - acc: 0.7468\n",
      "Epoch 11/100\n",
      "5702/5702 [==============================] - 0s 1us/step - loss: 0.2045 - acc: 0.7466\n",
      "Epoch 12/100\n",
      "5702/5702 [==============================] - 0s 1us/step - loss: 0.2011 - acc: 0.7466\n",
      "Epoch 13/100\n",
      "5702/5702 [==============================] - 0s 1us/step - loss: 0.1981 - acc: 0.7468\n",
      "Epoch 14/100\n",
      "5702/5702 [==============================] - 0s 1us/step - loss: 0.1954 - acc: 0.7468\n",
      "Epoch 15/100\n",
      "5702/5702 [==============================] - 0s 1us/step - loss: 0.1931 - acc: 0.7468\n",
      "Epoch 16/100\n",
      "5702/5702 [==============================] - 0s 1us/step - loss: 0.1910 - acc: 0.7469\n",
      "Epoch 17/100\n",
      "5702/5702 [==============================] - 0s 1us/step - loss: 0.1892 - acc: 0.7471\n",
      "Epoch 18/100\n",
      "5702/5702 [==============================] - 0s 1us/step - loss: 0.1878 - acc: 0.7475\n",
      "Epoch 19/100\n",
      "5702/5702 [==============================] - 0s 1us/step - loss: 0.1866 - acc: 0.7475\n",
      "Epoch 20/100\n",
      "5702/5702 [==============================] - 0s 1us/step - loss: 0.1857 - acc: 0.7475\n",
      "Epoch 21/100\n",
      "5702/5702 [==============================] - 0s 1us/step - loss: 0.1851 - acc: 0.7475\n",
      "Epoch 22/100\n",
      "5702/5702 [==============================] - 0s 1us/step - loss: 0.1847 - acc: 0.7475\n",
      "Epoch 23/100\n",
      "5702/5702 [==============================] - 0s 1us/step - loss: 0.1844 - acc: 0.7475\n",
      "Epoch 24/100\n",
      "5702/5702 [==============================] - 0s 1us/step - loss: 0.1843 - acc: 0.7475\n",
      "Epoch 25/100\n",
      "5702/5702 [==============================] - 0s 1us/step - loss: 0.1843 - acc: 0.7475\n",
      "Epoch 26/100\n",
      "5702/5702 [==============================] - 0s 1us/step - loss: 0.1844 - acc: 0.7475\n",
      "Epoch 27/100\n",
      "5702/5702 [==============================] - 0s 1us/step - loss: 0.1845 - acc: 0.7476\n",
      "Epoch 28/100\n",
      "5702/5702 [==============================] - 0s 1us/step - loss: 0.1847 - acc: 0.7476\n",
      "Epoch 29/100\n",
      "5702/5702 [==============================] - 0s 1us/step - loss: 0.1848 - acc: 0.7476\n",
      "Epoch 30/100\n",
      "5702/5702 [==============================] - 0s 1us/step - loss: 0.1849 - acc: 0.7476\n",
      "Epoch 31/100\n",
      "5702/5702 [==============================] - 0s 1us/step - loss: 0.1849 - acc: 0.7476\n",
      "Epoch 32/100\n",
      "5702/5702 [==============================] - 0s 1us/step - loss: 0.1849 - acc: 0.7476\n",
      "Epoch 33/100\n",
      "5702/5702 [==============================] - 0s 1us/step - loss: 0.1849 - acc: 0.7476\n",
      "Epoch 34/100\n",
      "5702/5702 [==============================] - 0s 1us/step - loss: 0.1848 - acc: 0.7480\n",
      "Epoch 35/100\n",
      "5702/5702 [==============================] - 0s 1us/step - loss: 0.1846 - acc: 0.7480\n",
      "Epoch 36/100\n",
      "5702/5702 [==============================] - 0s 1us/step - loss: 0.1845 - acc: 0.7480\n",
      "Epoch 37/100\n",
      "5702/5702 [==============================] - 0s 1us/step - loss: 0.1843 - acc: 0.7480\n",
      "Epoch 38/100\n",
      "5702/5702 [==============================] - 0s 1us/step - loss: 0.1841 - acc: 0.7480\n",
      "Epoch 39/100\n",
      "5702/5702 [==============================] - 0s 1us/step - loss: 0.1839 - acc: 0.7482\n",
      "Epoch 40/100\n",
      "5702/5702 [==============================] - 0s 1us/step - loss: 0.1837 - acc: 0.7482\n",
      "Epoch 41/100\n",
      "5702/5702 [==============================] - 0s 1us/step - loss: 0.1835 - acc: 0.7482\n",
      "Epoch 42/100\n",
      "5702/5702 [==============================] - 0s 1us/step - loss: 0.1833 - acc: 0.7482\n",
      "Epoch 43/100\n",
      "5702/5702 [==============================] - 0s 0us/step - loss: 0.1831 - acc: 0.7482\n",
      "Epoch 44/100\n",
      "5702/5702 [==============================] - 0s 1us/step - loss: 0.1829 - acc: 0.7482\n",
      "Epoch 45/100\n",
      "5702/5702 [==============================] - 0s 1us/step - loss: 0.1828 - acc: 0.7482\n",
      "Epoch 46/100\n",
      "5702/5702 [==============================] - 0s 1us/step - loss: 0.1827 - acc: 0.7483\n",
      "Epoch 47/100\n",
      "5702/5702 [==============================] - 0s 1us/step - loss: 0.1826 - acc: 0.7483\n",
      "Epoch 48/100\n",
      "5702/5702 [==============================] - 0s 1us/step - loss: 0.1825 - acc: 0.7483\n",
      "Epoch 49/100\n",
      "5702/5702 [==============================] - 0s 1us/step - loss: 0.1825 - acc: 0.7487\n",
      "Epoch 50/100\n",
      "5702/5702 [==============================] - 0s 1us/step - loss: 0.1824 - acc: 0.7492\n",
      "Epoch 51/100\n",
      "5702/5702 [==============================] - 0s 1us/step - loss: 0.1824 - acc: 0.7494\n",
      "Epoch 52/100\n",
      "5702/5702 [==============================] - 0s 1us/step - loss: 0.1824 - acc: 0.7497\n",
      "Epoch 53/100\n",
      "5702/5702 [==============================] - 0s 1us/step - loss: 0.1823 - acc: 0.7497\n",
      "Epoch 54/100\n",
      "5702/5702 [==============================] - 0s 1us/step - loss: 0.1823 - acc: 0.7497\n",
      "Epoch 55/100\n",
      "5702/5702 [==============================] - 0s 1us/step - loss: 0.1822 - acc: 0.7496\n",
      "Epoch 56/100\n",
      "5702/5702 [==============================] - 0s 1us/step - loss: 0.1822 - acc: 0.7494\n",
      "Epoch 57/100\n",
      "5702/5702 [==============================] - 0s 1us/step - loss: 0.1822 - acc: 0.7492\n",
      "Epoch 58/100\n",
      "5702/5702 [==============================] - 0s 1us/step - loss: 0.1821 - acc: 0.7492\n",
      "Epoch 59/100\n",
      "5702/5702 [==============================] - 0s 1us/step - loss: 0.1821 - acc: 0.7492\n",
      "Epoch 60/100\n",
      "5702/5702 [==============================] - 0s 1us/step - loss: 0.1820 - acc: 0.7494\n",
      "Epoch 61/100\n",
      "5702/5702 [==============================] - 0s 1us/step - loss: 0.1820 - acc: 0.7496\n",
      "Epoch 62/100\n",
      "5702/5702 [==============================] - 0s 1us/step - loss: 0.1819 - acc: 0.7496\n",
      "Epoch 63/100\n",
      "5702/5702 [==============================] - 0s 1us/step - loss: 0.1819 - acc: 0.7497\n",
      "Epoch 64/100\n",
      "5702/5702 [==============================] - 0s 1us/step - loss: 0.1818 - acc: 0.7497\n",
      "Epoch 65/100\n",
      "5702/5702 [==============================] - 0s 1us/step - loss: 0.1818 - acc: 0.7497\n",
      "Epoch 66/100\n",
      "5702/5702 [==============================] - 0s 1us/step - loss: 0.1817 - acc: 0.7496\n",
      "Epoch 67/100\n",
      "5702/5702 [==============================] - 0s 1us/step - loss: 0.1817 - acc: 0.7497\n",
      "Epoch 68/100\n",
      "5702/5702 [==============================] - 0s 1us/step - loss: 0.1816 - acc: 0.7499\n",
      "Epoch 69/100\n",
      "5702/5702 [==============================] - 0s 1us/step - loss: 0.1816 - acc: 0.7499\n",
      "Epoch 70/100\n",
      "5702/5702 [==============================] - 0s 1us/step - loss: 0.1816 - acc: 0.7501\n",
      "Epoch 71/100\n",
      "5702/5702 [==============================] - 0s 1us/step - loss: 0.1815 - acc: 0.7501\n",
      "Epoch 72/100\n",
      "5702/5702 [==============================] - 0s 1us/step - loss: 0.1815 - acc: 0.7499\n",
      "Epoch 73/100\n",
      "5702/5702 [==============================] - 0s 1us/step - loss: 0.1815 - acc: 0.7503\n",
      "Epoch 74/100\n",
      "5702/5702 [==============================] - 0s 1us/step - loss: 0.1814 - acc: 0.7504\n",
      "Epoch 75/100\n",
      "5702/5702 [==============================] - 0s 1us/step - loss: 0.1814 - acc: 0.7504\n",
      "Epoch 76/100\n",
      "5702/5702 [==============================] - 0s 1us/step - loss: 0.1814 - acc: 0.7506\n",
      "Epoch 77/100\n",
      "5702/5702 [==============================] - 0s 1us/step - loss: 0.1814 - acc: 0.7510\n",
      "Epoch 78/100\n",
      "5702/5702 [==============================] - 0s 1us/step - loss: 0.1813 - acc: 0.7510\n",
      "Epoch 79/100\n",
      "5702/5702 [==============================] - 0s 1us/step - loss: 0.1813 - acc: 0.7511\n",
      "Epoch 80/100\n",
      "5702/5702 [==============================] - 0s 1us/step - loss: 0.1813 - acc: 0.7511\n",
      "Epoch 81/100\n",
      "5702/5702 [==============================] - 0s 1us/step - loss: 0.1813 - acc: 0.7510\n",
      "Epoch 82/100\n",
      "5702/5702 [==============================] - 0s 1us/step - loss: 0.1812 - acc: 0.7513\n",
      "Epoch 83/100\n",
      "5702/5702 [==============================] - 0s 1us/step - loss: 0.1812 - acc: 0.7513\n"
     ]
    },
    {
     "name": "stdout",
     "output_type": "stream",
     "text": [
      "Epoch 84/100\n",
      "5702/5702 [==============================] - 0s 1us/step - loss: 0.1812 - acc: 0.7515\n",
      "Epoch 85/100\n",
      "5702/5702 [==============================] - 0s 1us/step - loss: 0.1812 - acc: 0.7511\n",
      "Epoch 86/100\n",
      "5702/5702 [==============================] - 0s 1us/step - loss: 0.1812 - acc: 0.7515\n",
      "Epoch 87/100\n",
      "5702/5702 [==============================] - 0s 1us/step - loss: 0.1811 - acc: 0.7517\n",
      "Epoch 88/100\n",
      "5702/5702 [==============================] - 0s 1us/step - loss: 0.1811 - acc: 0.7517\n",
      "Epoch 89/100\n",
      "5702/5702 [==============================] - 0s 1us/step - loss: 0.1811 - acc: 0.7517\n",
      "Epoch 90/100\n",
      "5702/5702 [==============================] - 0s 1us/step - loss: 0.1811 - acc: 0.7515\n",
      "Epoch 91/100\n",
      "5702/5702 [==============================] - 0s 0us/step - loss: 0.1811 - acc: 0.7513\n",
      "Epoch 92/100\n",
      "5702/5702 [==============================] - 0s 1us/step - loss: 0.1811 - acc: 0.7515\n",
      "Epoch 93/100\n",
      "5702/5702 [==============================] - 0s 1us/step - loss: 0.1811 - acc: 0.7513\n",
      "Epoch 94/100\n",
      "5702/5702 [==============================] - 0s 1us/step - loss: 0.1810 - acc: 0.7515\n",
      "Epoch 95/100\n",
      "5702/5702 [==============================] - 0s 1us/step - loss: 0.1810 - acc: 0.7511\n",
      "Epoch 96/100\n",
      "5702/5702 [==============================] - 0s 1us/step - loss: 0.1810 - acc: 0.7517\n",
      "Epoch 97/100\n",
      "5702/5702 [==============================] - 0s 0us/step - loss: 0.1810 - acc: 0.7517\n",
      "Epoch 98/100\n",
      "5702/5702 [==============================] - 0s 1us/step - loss: 0.1810 - acc: 0.7515\n",
      "Epoch 99/100\n",
      "5702/5702 [==============================] - 0s 1us/step - loss: 0.1810 - acc: 0.7515\n",
      "Epoch 100/100\n",
      "5702/5702 [==============================] - 0s 1us/step - loss: 0.1810 - acc: 0.7513\n"
     ]
    },
    {
     "data": {
      "text/plain": [
       "<keras.callbacks.History at 0x2b732ab1ef0>"
      ]
     },
     "execution_count": 18,
     "metadata": {},
     "output_type": "execute_result"
    }
   ],
   "source": [
    "model= Sequential([\n",
    "        Dense(10,input_dim=10),\n",
    "        Activation('tanh'),\n",
    "        Dense(1),\n",
    "        Activation('sigmoid')\n",
    "        ])\n",
    "\n",
    "adam=Adam(lr=0.01)\n",
    "\n",
    "\n",
    "model.compile(\n",
    "        optimizer=adam,\n",
    "        loss='mean_squared_error',\n",
    "#        loss='binary_crossentropy',\n",
    "        metrics=['accuracy'],\n",
    "        )\n",
    "\n",
    "model.fit(train_x,train_y,nb_epoch=100,batch_size=5702)\n"
   ]
  },
  {
   "cell_type": "code",
   "execution_count": 19,
   "metadata": {},
   "outputs": [
    {
     "name": "stdout",
     "output_type": "stream",
     "text": [
      "0.6270718232044199\n",
      "[[1358    0]\n",
      " [ 810    4]]\n"
     ]
    }
   ],
   "source": [
    "from sklearn.metrics import accuracy_score,confusion_matrix\n",
    "predict_test_y = model.predict(test_x)\n",
    "\n",
    "theta=0.55\n",
    "\n",
    "predict_test_y[predict_test_y>=theta]=1\n",
    "predict_test_y[predict_test_y<theta]=0\n",
    "\n",
    "acc=accuracy_score(test_y,predict_test_y)\n",
    "cm = confusion_matrix(test_y,predict_test_y)\n",
    "#print(cm)\n",
    "print(acc)\n",
    "print(cm)"
   ]
  },
  {
   "cell_type": "code",
   "execution_count": null,
   "metadata": {},
   "outputs": [],
   "source": []
  },
  {
   "cell_type": "code",
   "execution_count": null,
   "metadata": {},
   "outputs": [],
   "source": []
  },
  {
   "cell_type": "code",
   "execution_count": null,
   "metadata": {},
   "outputs": [],
   "source": []
  },
  {
   "cell_type": "code",
   "execution_count": null,
   "metadata": {},
   "outputs": [],
   "source": []
  }
 ],
 "metadata": {
  "kernelspec": {
   "display_name": "Python 3",
   "language": "python",
   "name": "python3"
  },
  "language_info": {
   "codemirror_mode": {
    "name": "ipython",
    "version": 3
   },
   "file_extension": ".py",
   "mimetype": "text/x-python",
   "name": "python",
   "nbconvert_exporter": "python",
   "pygments_lexer": "ipython3",
   "version": "3.6.10"
  }
 },
 "nbformat": 4,
 "nbformat_minor": 4
}
