{
 "cells": [
  {
   "cell_type": "code",
   "execution_count": 1,
   "metadata": {},
   "outputs": [],
   "source": [
    "import pandas as pd\n",
    "import numpy as np\n",
    "import datetime \n",
    "from sklearn.decomposition import PCA\n",
    "from sklearn.linear_model import LogisticRegression\n",
    "from sklearn.preprocessing import MinMaxScaler\n",
    "from sklearn.svm import SVC\n",
    "from sklearn.model_selection import GridSearchCV"
   ]
  },
  {
   "cell_type": "code",
   "execution_count": 2,
   "metadata": {},
   "outputs": [],
   "source": [
    "import pandas as pd\n",
    "import numpy as np\n",
    "data_train = pd.read_csv('data/data_train.csv')\n",
    "#data_train.head()\n",
    "date_train = data_train.loc[:,'date']\n",
    "date_train =date_train.tolist()\n",
    "date_train = set(date_train)\n",
    "date_train = list(date_train)\n",
    "date_train = sorted(date_train)\n",
    "# print(len(date_train))\n",
    "# print(type(date_train[0]))\n",
    "# print(date_train)"
   ]
  },
  {
   "cell_type": "code",
   "execution_count": 3,
   "metadata": {},
   "outputs": [
    {
     "data": {
      "text/plain": [
       "stock_code\n",
       "000001.SZ    0.035853\n",
       "000002.SZ    0.028047\n",
       "000008.SZ    0.050602\n",
       "000060.SZ    0.019249\n",
       "000063.SZ    0.068517\n",
       "Name: y, dtype: float64"
      ]
     },
     "execution_count": 3,
     "metadata": {},
     "output_type": "execute_result"
    }
   ],
   "source": [
    "#分析日期\n",
    "date = 20171207\n",
    "data_train_temp = data_train[data_train['date'] == date]\n",
    "#以股票代码进行数据索引\n",
    "data_train_temp = data_train_temp.set_index(['stock_code'])\n",
    "x_train = data_train_temp.drop(['date','y'],axis=1)\n",
    "y_temp = data_train_temp.loc[:,'y']\n",
    "y_temp.head()"
   ]
  },
  {
   "cell_type": "code",
   "execution_count": 4,
   "metadata": {},
   "outputs": [],
   "source": [
    "#引入依赖库\n",
    "from sklearn.decomposition import PCA\n",
    "from sklearn.preprocessing import MinMaxScaler\n",
    "from sklearn.svm import SVC\n",
    "y_temp = y_temp.dropna()#缺省值去掉\n",
    "N1 = y_temp[y_temp>0.04] #筛选出收益率大于0.04的股票\n",
    "N2 = y_temp[y_temp<=0.04]#筛选出收益率小于0.的股票\n",
    "y_train = [1] * len(N1) + [0] * len(N2) \n",
    "code_train = list(N1.index)+list(N2.index) \n",
    "code_train = code_train\n",
    "x_train = x_train.loc[code_train].values\n",
    "# 使用主成分分析，对数据作降维处理，提取四个关键的特征\n",
    "nm_scaler = MinMaxScaler()\n",
    "x_train = nm_scaler.fit_transform(x_train)\n",
    "pca = PCA(n_components=4)\n",
    "x_train = pca.fit_transform(x_train)"
   ]
  },
  {
   "cell_type": "code",
   "execution_count": 5,
   "metadata": {},
   "outputs": [],
   "source": [
    "# 构建模型，对模型进行训练\n",
    "model =SVC(C=20000,kernel='rbf',gamma=1)\n",
    "model.fit(x_train, y_train)\n",
    "y_train_predict = model.predict(x_train)"
   ]
  },
  {
   "cell_type": "code",
   "execution_count": 6,
   "metadata": {},
   "outputs": [
    {
     "name": "stdout",
     "output_type": "stream",
     "text": [
      "0.8501742160278746\n"
     ]
    }
   ],
   "source": [
    "from sklearn.metrics import accuracy_score,confusion_matrix\n",
    "acc=accuracy_score(y_train,y_train_predict)\n",
    "#cm = confusion_matrix(y_train,y_train_predict)\n",
    "#print(cm)\n",
    "print(acc)\n",
    "#print(cm)"
   ]
  },
  {
   "cell_type": "code",
   "execution_count": 7,
   "metadata": {},
   "outputs": [
    {
     "name": "stdout",
     "output_type": "stream",
     "text": [
      "0.8501742160278746\n",
      "[[218   5]\n",
      " [ 38  26]]\n"
     ]
    }
   ],
   "source": [
    "from sklearn.metrics import accuracy_score,confusion_matrix\n",
    "acc=accuracy_score(y_train,y_train_predict)\n",
    "cm = confusion_matrix(y_train,y_train_predict)\n",
    "#print(cm)\n",
    "print(acc)\n",
    "print(cm)"
   ]
  },
  {
   "cell_type": "code",
   "execution_count": 10,
   "metadata": {},
   "outputs": [
    {
     "name": "stdout",
     "output_type": "stream",
     "text": [
      "['000333.SZ' '000338.SZ' '000423.SZ' '000538.SZ' '000540.SZ' '000568.SZ'\n",
      " '000651.SZ' '000858.SZ' '000895.SZ' '002008.SZ' '002294.SZ' '002304.SZ'\n",
      " '002415.SZ' '002468.SZ' '002470.SZ' '002508.SZ' '002594.SZ' '002714.SZ'\n",
      " '002739.SZ' '300072.SZ' '600009.SH' '600029.SH' '600074.SH' '600115.SH'\n",
      " '600157.SH' '600276.SH' '600309.SH' '600332.SH' '600362.SH' '600485.SH'\n",
      " '600519.SH' '600585.SH' '600685.SH' '600690.SH' '600703.SH' '600887.SH'\n",
      " '601012.SH' '601225.SH' '601888.SH' '601899.SH' '601939.SH' '603833.SH']\n"
     ]
    }
   ],
   "source": [
    "data_test = pd.read_csv('data/data_test.csv')\n",
    "#分析日期\n",
    "date = 20171227\n",
    "data_test_temp = data_test[data_test['date'] == date]\n",
    "#以股票代码进行数据索引\n",
    "data_test_temp = data_test_temp.set_index(['stock_code'])\n",
    "x_test = data_test_temp.drop(['date'],axis=1)\n",
    "x_test = x_test.fillna(0)\n",
    "x_test = x_test.values\n",
    "# 使用主成分分析，对数据作降维处理，提取四个关键的特征\n",
    "x_test = nm_scaler.transform(x_test)\n",
    "x_test = pca.transform(x_test)\n",
    "#预测\n",
    "y_test_predict = model.predict(x_test)\n",
    "#预测收益率大于0.04的股票\n",
    "stock_selected = data_test_temp.index.values[y_test_predict==1]  \n",
    "print(stock_selected)"
   ]
  },
  {
   "cell_type": "code",
   "execution_count": 11,
   "metadata": {},
   "outputs": [
    {
     "data": {
      "text/html": [
       "<div>\n",
       "<style scoped>\n",
       "    .dataframe tbody tr th:only-of-type {\n",
       "        vertical-align: middle;\n",
       "    }\n",
       "\n",
       "    .dataframe tbody tr th {\n",
       "        vertical-align: top;\n",
       "    }\n",
       "\n",
       "    .dataframe thead th {\n",
       "        text-align: right;\n",
       "    }\n",
       "</style>\n",
       "<table border=\"1\" class=\"dataframe\">\n",
       "  <thead>\n",
       "    <tr style=\"text-align: right;\">\n",
       "      <th></th>\n",
       "      <th>date</th>\n",
       "      <th>test_acc</th>\n",
       "      <th>stock_num</th>\n",
       "      <th>stock_code</th>\n",
       "    </tr>\n",
       "  </thead>\n",
       "  <tbody>\n",
       "    <tr>\n",
       "      <th>0</th>\n",
       "      <td>20171227</td>\n",
       "      <td>0.850174</td>\n",
       "      <td>42</td>\n",
       "      <td>[000333.SZ, 000338.SZ, 000423.SZ, 000538.SZ, 0...</td>\n",
       "    </tr>\n",
       "    <tr>\n",
       "      <th>1</th>\n",
       "      <td>20180125</td>\n",
       "      <td>0.759582</td>\n",
       "      <td>85</td>\n",
       "      <td>[000002.SZ, 000060.SZ, 000333.SZ, 000338.SZ, 0...</td>\n",
       "    </tr>\n",
       "    <tr>\n",
       "      <th>2</th>\n",
       "      <td>20180301</td>\n",
       "      <td>0.746479</td>\n",
       "      <td>76</td>\n",
       "      <td>[000001.SZ, 000002.SZ, 000008.SZ, 000069.SZ, 0...</td>\n",
       "    </tr>\n",
       "    <tr>\n",
       "      <th>3</th>\n",
       "      <td>20180329</td>\n",
       "      <td>0.933333</td>\n",
       "      <td>13</td>\n",
       "      <td>[000157.SZ, 000415.SZ, 000540.SZ, 002252.SZ, 0...</td>\n",
       "    </tr>\n",
       "    <tr>\n",
       "      <th>4</th>\n",
       "      <td>20180502</td>\n",
       "      <td>0.940141</td>\n",
       "      <td>19</td>\n",
       "      <td>[000063.SZ, 000338.SZ, 000423.SZ, 000625.SZ, 0...</td>\n",
       "    </tr>\n",
       "  </tbody>\n",
       "</table>\n",
       "</div>"
      ],
      "text/plain": [
       "       date  test_acc stock_num  \\\n",
       "0  20171227  0.850174        42   \n",
       "1  20180125  0.759582        85   \n",
       "2  20180301  0.746479        76   \n",
       "3  20180329  0.933333        13   \n",
       "4  20180502  0.940141        19   \n",
       "\n",
       "                                          stock_code  \n",
       "0  [000333.SZ, 000338.SZ, 000423.SZ, 000538.SZ, 0...  \n",
       "1  [000002.SZ, 000060.SZ, 000333.SZ, 000338.SZ, 0...  \n",
       "2  [000001.SZ, 000002.SZ, 000008.SZ, 000069.SZ, 0...  \n",
       "3  [000157.SZ, 000415.SZ, 000540.SZ, 002252.SZ, 0...  \n",
       "4  [000063.SZ, 000338.SZ, 000423.SZ, 000625.SZ, 0...  "
      ]
     },
     "execution_count": 11,
     "metadata": {},
     "output_type": "execute_result"
    }
   ],
   "source": [
    "#获取遍历日期\n",
    "date_train = data_train.loc[:,'date']\n",
    "date_train =date_train.tolist()\n",
    "date_train = set(date_train)\n",
    "date_train = list(date_train)\n",
    "date_train = sorted(date_train)\n",
    "date_test = data_test.loc[:,'date']\n",
    "date_test =date_test.tolist()\n",
    "date_test = set(date_test)\n",
    "date_test = list(date_test)\n",
    "date_test = sorted(date_test)\n",
    "accuracy_score_list = []\n",
    "stock_result_list = []\n",
    "stock_result_num_list = []\n",
    "#遍历所有日期建立模型、进行预测\n",
    "for i in range(0,len(date_train)):\n",
    "    #分析日期\n",
    "    date = date_train[i]\n",
    "    data_train_temp = data_train[data_train['date'] == date]\n",
    "    #以股票代码进行数据索引\n",
    "    data_train_temp = data_train_temp.set_index(['stock_code'])\n",
    "    x_train = data_train_temp.drop(['date','y'],axis=1)\n",
    "    y_temp = data_train_temp.loc[:,'y']\n",
    "    y_temp = y_temp.dropna()#缺省值去掉\n",
    "    N1 = y_temp[y_temp>0.04] #筛选出收益率大于0.04的股票\n",
    "    N2 = y_temp[y_temp<=0.04]#筛选出收益率小于0.的股票\n",
    "    y_train = [1] * len(N1) + [0] * len(N2) \n",
    "    code_train = list(N1.index)+list(N2.index) \n",
    "    code_train = code_train\n",
    "    x_train = x_train.loc[code_train].values\n",
    "    # 使用主成分分析，对数据作降维处理，提取四个关键的特征\n",
    "    nm_scaler = MinMaxScaler()\n",
    "    x_train = nm_scaler.fit_transform(x_train)\n",
    "    pca = PCA(n_components=4)\n",
    "    x_train = pca.fit_transform(x_train)\n",
    "    # 构建模型，对模型进行训练\n",
    "    model =SVC(C=20000,kernel='rbf',gamma=1)\n",
    "    model.fit(x_train, y_train)\n",
    "    y_train_predict = model.predict(x_train)\n",
    "    acc=accuracy_score(y_train,y_train_predict)\n",
    "    accuracy_score_list.append(acc)\n",
    "    #cm = confusion_matrix(y_train,y_train_predict)\n",
    "    #print(cm)\n",
    "    #print(acc)\n",
    "    #分析日期\n",
    "    date = date_test[i]\n",
    "    data_test_temp = data_test[data_test['date'] == date]\n",
    "    #以股票代码进行数据索引\n",
    "    data_test_temp = data_test_temp.set_index(['stock_code'])\n",
    "    x_test = data_test_temp.drop(['date'],axis=1)\n",
    "    x_test = x_test.fillna(0)\n",
    "    x_test = x_test.values\n",
    "    # 使用主成分分析，对数据作降维处理，提取四个关键的特征\n",
    "    x_test = nm_scaler.transform(x_test)\n",
    "    x_test = pca.transform(x_test)\n",
    "    #预测\n",
    "    y_test_predict = model.predict(x_test)\n",
    "    #预测收益率大于0.04的股票\n",
    "    stock_selected = data_test_temp.index.values[y_test_predict==1]  \n",
    "    stock_result_list.append(stock_selected)\n",
    "    stock_selected_num = len(stock_selected)\n",
    "    stock_result_num_list.append(stock_selected_num)\n",
    "    #print(stock_selected)\n",
    "result = pd.DataFrame([date_test,accuracy_score_list,stock_result_num_list,stock_result_list],index=['date','test_acc','stock_num','stock_code']).T\n",
    "result.head()"
   ]
  },
  {
   "cell_type": "code",
   "execution_count": null,
   "metadata": {},
   "outputs": [],
   "source": [
    "result.to_csv('svm_result.csv')"
   ]
  },
  {
   "cell_type": "code",
   "execution_count": null,
   "metadata": {},
   "outputs": [],
   "source": [
    "print(result)"
   ]
  }
 ],
 "metadata": {
  "kernelspec": {
   "display_name": "Python 3",
   "language": "python",
   "name": "python3"
  },
  "language_info": {
   "codemirror_mode": {
    "name": "ipython",
    "version": 3
   },
   "file_extension": ".py",
   "mimetype": "text/x-python",
   "name": "python",
   "nbconvert_exporter": "python",
   "pygments_lexer": "ipython3",
   "version": "3.6.10"
  }
 },
 "nbformat": 4,
 "nbformat_minor": 2
}
