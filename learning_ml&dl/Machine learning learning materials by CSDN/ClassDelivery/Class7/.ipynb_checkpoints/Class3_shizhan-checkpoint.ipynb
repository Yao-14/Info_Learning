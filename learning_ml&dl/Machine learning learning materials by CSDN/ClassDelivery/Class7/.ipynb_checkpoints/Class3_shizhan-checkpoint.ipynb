{
 "cells": [
  {
   "cell_type": "code",
   "execution_count": null,
   "metadata": {},
   "outputs": [],
   "source": [
    "# 本次课程学习要点：图片处理进阶\n",
    "#1，图像滤波（边缘检测与平滑滤波）\n",
    "#2，图像阈值分割\n",
    "#3，基本形态学滤波：膨胀，腐蚀，开关运算\n",
    "#4，一些做图的方法"
   ]
  },
  {
   "cell_type": "code",
   "execution_count": null,
   "metadata": {},
   "outputs": [],
   "source": [
    "#加载所必要的库：numpy数值处理工具,matplotlib作图工具，skimage图像处理工具\n",
    "\n",
    "\n"
   ]
  },
  {
   "cell_type": "code",
   "execution_count": null,
   "metadata": {
    "scrolled": true
   },
   "outputs": [],
   "source": [
    "#载入文件夹中预设好的图片,但是需要先手动载入skimage读图的子模块\n",
    "\n",
    "\n",
    "#展示图片\n",
    "\n"
   ]
  },
  {
   "cell_type": "code",
   "execution_count": null,
   "metadata": {},
   "outputs": [],
   "source": [
    "#图片平滑滤波-高斯滤波"
   ]
  },
  {
   "cell_type": "code",
   "execution_count": null,
   "metadata": {},
   "outputs": [],
   "source": [
    "#首先需要将图片转化成灰白图片\n",
    "\n",
    "\n",
    "#如果展示灰白图而不是亮度图\n",
    "\n"
   ]
  },
  {
   "cell_type": "code",
   "execution_count": null,
   "metadata": {},
   "outputs": [],
   "source": [
    "#手动加载SKIMAGE中用于高斯平滑滤波的子模块\n",
    "\n",
    "\n",
    "#直接调用gaussian模块，可以尝试不同的sigma=1,3,10感受效果\n"
   ]
  },
  {
   "cell_type": "code",
   "execution_count": null,
   "metadata": {},
   "outputs": [],
   "source": [
    "#边缘检测滤波\n"
   ]
  },
  {
   "cell_type": "code",
   "execution_count": null,
   "metadata": {},
   "outputs": [],
   "source": [
    "#载入关键的库 filters feature\n",
    "\n"
   ]
  },
  {
   "cell_type": "code",
   "execution_count": null,
   "metadata": {},
   "outputs": [],
   "source": [
    "#使用robert算子进行滤波\n"
   ]
  },
  {
   "cell_type": "code",
   "execution_count": null,
   "metadata": {},
   "outputs": [],
   "source": [
    "#使用 prewitt算子中独立的水平和垂直算子进行滤波\n",
    "\n",
    "#水平算子检测\n",
    "\n",
    "#垂直算子检测\n",
    "\n",
    "\n",
    "#检测结果展示\n"
   ]
  },
  {
   "cell_type": "code",
   "execution_count": null,
   "metadata": {},
   "outputs": [],
   "source": [
    "#使用 prewitt算子进行滤波\n"
   ]
  },
  {
   "cell_type": "code",
   "execution_count": null,
   "metadata": {},
   "outputs": [],
   "source": [
    "#使用sobel的三种算子进行检测\n",
    "\n",
    "#水平算子\n",
    "\n",
    "#垂直算子\n",
    "\n",
    "#sobel算子\n",
    "\n",
    "#结果展示\n",
    "\n"
   ]
  },
  {
   "cell_type": "code",
   "execution_count": null,
   "metadata": {},
   "outputs": [],
   "source": [
    "#使用canny算子进行检测\n"
   ]
  },
  {
   "cell_type": "code",
   "execution_count": null,
   "metadata": {},
   "outputs": [],
   "source": [
    "#基于阈值的图片分割"
   ]
  },
  {
   "cell_type": "code",
   "execution_count": null,
   "metadata": {},
   "outputs": [],
   "source": [
    "#采用otsu算法计算分割阈值,测试不同nbins效果\n"
   ]
  },
  {
   "cell_type": "code",
   "execution_count": null,
   "metadata": {},
   "outputs": [],
   "source": [
    "#通过阈值生成分割的图片\n",
    "\n",
    "#展示图片\n"
   ]
  },
  {
   "cell_type": "code",
   "execution_count": null,
   "metadata": {},
   "outputs": [],
   "source": [
    "#展示不同BINS带来的区别\n"
   ]
  },
  {
   "cell_type": "code",
   "execution_count": null,
   "metadata": {},
   "outputs": [],
   "source": [
    "#观看一下灰度的实际分布，偏低的峰是背景天空，另外一个较亮的云\n"
   ]
  },
  {
   "cell_type": "code",
   "execution_count": null,
   "metadata": {},
   "outputs": [],
   "source": [
    "#基本形态学滤波，载入必要的模块和图片\n",
    "\n",
    "\n"
   ]
  },
  {
   "cell_type": "code",
   "execution_count": null,
   "metadata": {},
   "outputs": [],
   "source": [
    "#膨胀\n"
   ]
  },
  {
   "cell_type": "code",
   "execution_count": null,
   "metadata": {},
   "outputs": [],
   "source": [
    "#采用不同的算子\n"
   ]
  },
  {
   "cell_type": "code",
   "execution_count": null,
   "metadata": {},
   "outputs": [],
   "source": [
    "#腐蚀\n"
   ]
  },
  {
   "cell_type": "code",
   "execution_count": null,
   "metadata": {},
   "outputs": [],
   "source": [
    "#载入一张特别的图片方便理解\n",
    "\n",
    "\n",
    "\n",
    "#清理一下，把图片二值化\n"
   ]
  },
  {
   "cell_type": "code",
   "execution_count": null,
   "metadata": {},
   "outputs": [],
   "source": [
    "#开运算，先腐蚀再膨胀，可以消除小物体小斑块\n"
   ]
  },
  {
   "cell_type": "code",
   "execution_count": null,
   "metadata": {},
   "outputs": [],
   "source": [
    "#开运算，先腐蚀再膨胀，可以消除小物体小斑块：直接调用模组，尝试不同的范围阈值\n"
   ]
  },
  {
   "cell_type": "code",
   "execution_count": null,
   "metadata": {},
   "outputs": [],
   "source": [
    "#闭运算，先膨胀再腐蚀，可以来填充孔洞，载入特别图片方便理解\n",
    "\n",
    "#清理一下，把图片二值化\n",
    "\n",
    "\n"
   ]
  },
  {
   "cell_type": "code",
   "execution_count": null,
   "metadata": {},
   "outputs": [],
   "source": [
    "#分开两步实现\n"
   ]
  },
  {
   "cell_type": "code",
   "execution_count": null,
   "metadata": {},
   "outputs": [],
   "source": [
    "#一步调用模块实现，尝试不同的范围阈值\n"
   ]
  },
  {
   "cell_type": "code",
   "execution_count": null,
   "metadata": {},
   "outputs": [],
   "source": [
    "# 本次课程学习要点：图片处理进阶\n",
    "#1，图像滤波（边缘检测与平滑滤波）\n",
    "#2，图像阈值分割\n",
    "#3，基本形态学滤波：膨胀，腐蚀，开关运算\n",
    "#4，一些做图的方法"
   ]
  }
 ],
 "metadata": {
  "kernelspec": {
   "display_name": "Python 3",
   "language": "python",
   "name": "python3"
  },
  "language_info": {
   "codemirror_mode": {
    "name": "ipython",
    "version": 3
   },
   "file_extension": ".py",
   "mimetype": "text/x-python",
   "name": "python",
   "nbconvert_exporter": "python",
   "pygments_lexer": "ipython3",
   "version": "3.6.10"
  }
 },
 "nbformat": 4,
 "nbformat_minor": 4
}
