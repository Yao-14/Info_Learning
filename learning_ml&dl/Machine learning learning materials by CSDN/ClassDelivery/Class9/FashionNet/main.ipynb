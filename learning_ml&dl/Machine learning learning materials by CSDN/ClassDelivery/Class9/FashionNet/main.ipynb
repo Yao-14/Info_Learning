{
 "cells": [
  {
   "cell_type": "code",
   "execution_count": null,
   "metadata": {},
   "outputs": [],
   "source": []
  },
  {
   "cell_type": "code",
   "execution_count": null,
   "metadata": {},
   "outputs": [],
   "source": [
    "%pip install scikit-learn\n",
    "%pip install imutils"
   ]
  },
  {
   "cell_type": "code",
   "execution_count": null,
   "metadata": {},
   "outputs": [],
   "source": [
    "$ python train.py --dataset dataset --model output/fashion.model --categorybin output/category_lb.pickle --colorbin output/color_lb.pickle\n",
    "\n",
    "$ python classify.py --model output/fashion.model --categorybin output/category_lb.pickle --colorbin output/color_lb.pickle --image examples/black_jeans.jpg"
   ]
  },
  {
   "cell_type": "code",
   "execution_count": 2,
   "metadata": {
    "scrolled": false
   },
   "outputs": [
    {
     "name": "stdout",
     "output_type": "stream",
     "text": [
      "[INFO] loading images...\n",
      "[INFO] data matrix: 2521 images (1294.22MB)\n",
      "[INFO] binarizing labels...\n",
      "WARNING:tensorflow:From D:\\Users\\Anaconda3\\envs\\env_cv\\lib\\site-packages\\tensorflow\\python\\framework\\op_def_library.py:263: colocate_with (from tensorflow.python.framework.ops) is deprecated and will be removed in a future version.\n",
      "Instructions for updating:\n",
      "Colocations handled automatically by placer.\n",
      "WARNING:tensorflow:From D:\\Users\\Anaconda3\\envs\\env_cv\\lib\\site-packages\\keras\\backend\\tensorflow_backend.py:3445: calling dropout (from tensorflow.python.ops.nn_ops) with keep_prob is deprecated and will be removed in a future version.\n",
      "Instructions for updating:\n",
      "Please use `rate` instead of `keep_prob`. Rate should be set to `rate = 1 - keep_prob`.\n",
      "[INFO] compiling model...\n",
      "WARNING:tensorflow:From D:\\Users\\Anaconda3\\envs\\env_cv\\lib\\site-packages\\tensorflow\\python\\ops\\math_ops.py:3066: to_int32 (from tensorflow.python.ops.math_ops) is deprecated and will be removed in a future version.\n",
      "Instructions for updating:\n",
      "Use tf.cast instead.\n",
      "Train on 2268 samples, validate on 253 samples\n",
      "Epoch 1/1\n",
      "2268/2268 [==============================] - 517s 228ms/step - loss: 0.7407 - category_output_loss: 0.4897 - color_output_loss: 0.2510 - category_output_acc: 0.8576 - color_output_acc: 0.9123 - val_loss: 0.4080 - val_category_output_loss: 0.3015 - val_color_output_loss: 0.1066 - val_category_output_acc: 0.9170 - val_color_output_acc: 0.9723\n",
      "[INFO] serializing network...\n",
      "[INFO] serializing category label binarizer...\n",
      "[INFO] serializing color label binarizer...\n"
     ]
    }
   ],
   "source": [
    "%run train.py --dataset dataset --model output/fashion.model --categorybin output/category_lb.pickle --colorbin output/color_lb.pickle"
   ]
  },
  {
   "cell_type": "code",
   "execution_count": 3,
   "metadata": {},
   "outputs": [
    {
     "name": "stdout",
     "output_type": "stream",
     "text": [
      "[INFO] loading network...\n",
      "[INFO] classifying image...\n",
      "[INFO] category: dress (98.34%)\n",
      "[INFO] color: black (42.54%)\n",
      "[INFO] loading network...\n",
      "[INFO] classifying image...\n",
      "[INFO] category: jeans (100.00%)\n",
      "[INFO] color: black (90.43%)\n",
      "[INFO] loading network...\n",
      "[INFO] classifying image...\n",
      "[INFO] category: shoes (99.61%)\n",
      "[INFO] color: blue (100.00%)\n",
      "[INFO] loading network...\n",
      "[INFO] classifying image...\n",
      "[INFO] category: shirt (98.80%)\n",
      "[INFO] color: red (100.00%)\n",
      "[INFO] loading network...\n",
      "[INFO] classifying image...\n",
      "[INFO] category: shoes (78.82%)\n",
      "[INFO] color: black (84.05%)\n"
     ]
    }
   ],
   "source": [
    "%run classify.py --model output/fashion.model --categorybin output/category_lb.pickle --colorbin output/color_lb.pickle --image examples/1.jpg\n",
    "%run classify.py --model output/fashion.model --categorybin output/category_lb.pickle --colorbin output/color_lb.pickle --image examples/2.jpg\n",
    "%run classify.py --model output/fashion.model --categorybin output/category_lb.pickle --colorbin output/color_lb.pickle --image examples/3.jpg\n",
    "%run classify.py --model output/fashion.model --categorybin output/category_lb.pickle --colorbin output/color_lb.pickle --image examples/4.jpg\n",
    "%run classify.py --model output/fashion.model --categorybin output/category_lb.pickle --colorbin output/color_lb.pickle --image examples/5.jpg"
   ]
  },
  {
   "cell_type": "code",
   "execution_count": null,
   "metadata": {},
   "outputs": [],
   "source": []
  },
  {
   "cell_type": "code",
   "execution_count": null,
   "metadata": {
    "scrolled": true
   },
   "outputs": [],
   "source": []
  },
  {
   "cell_type": "code",
   "execution_count": null,
   "metadata": {},
   "outputs": [],
   "source": []
  }
 ],
 "metadata": {
  "kernelspec": {
   "display_name": "Python 3",
   "language": "python",
   "name": "python3"
  },
  "language_info": {
   "codemirror_mode": {
    "name": "ipython",
    "version": 3
   },
   "file_extension": ".py",
   "mimetype": "text/x-python",
   "name": "python",
   "nbconvert_exporter": "python",
   "pygments_lexer": "ipython3",
   "version": "3.6.10"
  }
 },
 "nbformat": 4,
 "nbformat_minor": 4
}
