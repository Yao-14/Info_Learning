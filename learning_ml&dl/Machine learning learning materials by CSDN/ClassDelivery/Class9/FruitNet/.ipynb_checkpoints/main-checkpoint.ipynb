{
 "cells": [
  {
   "cell_type": "code",
   "execution_count": null,
   "metadata": {},
   "outputs": [],
   "source": []
  },
  {
   "cell_type": "code",
   "execution_count": null,
   "metadata": {},
   "outputs": [],
   "source": [
    "#%pip install scikit-learn\n",
    "#%pip install imutils"
   ]
  },
  {
   "cell_type": "code",
   "execution_count": null,
   "metadata": {},
   "outputs": [],
   "source": [
    "#$ python train.py --dataset dataset --model output/fashion.model \\\n",
    "#\t--categorybin output/category_lb.pickle --colorbin output/color_lb.pickle\n",
    "\n",
    "#$ python classify.py --model output/fashion.model \\\n",
    "#\t--categorybin output/category_lb.pickle --colorbin output/color_lb.pickle \\\n",
    "#\t--image examples/black_jeans.jpg"
   ]
  },
  {
   "cell_type": "code",
   "execution_count": null,
   "metadata": {
    "scrolled": true
   },
   "outputs": [],
   "source": [
    "#%run train.py --dataset dataset --model output/fashion.model --categorybin output/category_lb.pickle --colorbin output/color_lb.pickle"
   ]
  },
  {
   "cell_type": "code",
   "execution_count": null,
   "metadata": {},
   "outputs": [],
   "source": [
    "#%run classify.py --model output/fashion.model --categorybin output/category_lb.pickle --colorbin output/color_lb.pickle --image examples/black_jeans.jpg"
   ]
  },
  {
   "cell_type": "code",
   "execution_count": null,
   "metadata": {},
   "outputs": [],
   "source": [
    "%run train.py --dataset MyDataset --model output/fruits.model --categorybin output/category_lb.pickle --colorbin output/color_lb.pickle"
   ]
  },
  {
   "cell_type": "code",
   "execution_count": null,
   "metadata": {
    "scrolled": true
   },
   "outputs": [],
   "source": [
    "%run classify.py --model output/fruits.model --categorybin output/category_lb.pickle --colorbin output/color_lb.pickle --image MyExamples/1.jpg\n",
    "%run classify.py --model output/fruits.model --categorybin output/category_lb.pickle --colorbin output/color_lb.pickle --image MyExamples/2.jpg\n",
    "%run classify.py --model output/fruits.model --categorybin output/category_lb.pickle --colorbin output/color_lb.pickle --image MyExamples/3.jpg\n",
    "%run classify.py --model output/fruits.model --categorybin output/category_lb.pickle --colorbin output/color_lb.pickle --image MyExamples/4.jpg\n",
    "%run classify.py --model output/fruits.model --categorybin output/category_lb.pickle --colorbin output/color_lb.pickle --image MyExamples/5.jpg\n",
    "%run classify.py --model output/fruits.model --categorybin output/category_lb.pickle --colorbin output/color_lb.pickle --image MyExamples/6.jpg\n",
    "%run classify.py --model output/fruits.model --categorybin output/category_lb.pickle --colorbin output/color_lb.pickle --image MyExamples/7.jpg\n",
    "\n"
   ]
  },
  {
   "cell_type": "code",
   "execution_count": null,
   "metadata": {},
   "outputs": [],
   "source": []
  }
 ],
 "metadata": {
  "kernelspec": {
   "display_name": "Python 3",
   "language": "python",
   "name": "python3"
  },
  "language_info": {
   "codemirror_mode": {
    "name": "ipython",
    "version": 3
   },
   "file_extension": ".py",
   "mimetype": "text/x-python",
   "name": "python",
   "nbconvert_exporter": "python",
   "pygments_lexer": "ipython3",
   "version": "3.6.10"
  }
 },
 "nbformat": 4,
 "nbformat_minor": 4
}
